{
 "cells": [
  {
   "cell_type": "markdown",
   "metadata": {},
   "source": [
    "# A comparative analysis of constituencies in England and Wales"
   ]
  },
  {
   "cell_type": "markdown",
   "metadata": {},
   "source": [
    "This is the code associated with the cluster analysis of constituencies in England and Wales. We start by importing the packages we need and downloading the relevant data sets."
   ]
  },
  {
   "cell_type": "code",
   "execution_count": 525,
   "metadata": {},
   "outputs": [],
   "source": [
    "import pandas as pd\n",
    "import numpy as np\n",
    "from matplotlib import pyplot as plt\n",
    "from bs4 import BeautifulSoup # data wrangling\n",
    "import opencage.geocoder # fetches coordinates\n",
    "import requests  # url scraping\n",
    "from urllib import request # url scraping\n",
    "import folium # displays maps\n",
    "from sklearn.cluster import DBSCAN # density-based clustering algorithm\n",
    "from sklearn.cluster import KMeans # K-means clustering algorithm\n",
    "from sklearn.decomposition import PCA # dimension reduction\n",
    "from re import sub # regular expressions\n",
    "import pickle # saving dataframes\n",
    "\n",
    "# used to generate colours for markers on maps\n",
    "import matplotlib.cm as cm\n",
    "import matplotlib.colors as colors\n",
    "from random import shuffle"
   ]
  },
  {
   "cell_type": "raw",
   "metadata": {},
   "source": [
    "# download data sets\n",
    "!wget -O constituencies.csv https://filedn.com/lRBwPhPxgV74tO0rDoe8SpH/athelstan_data/constituencies.csv\n",
    "!wget -O quals_2011.csv https://filedn.com/lRBwPhPxgV74tO0rDoe8SpH/athelstan_data/quals_2011.csv\n",
    "!wget -O business_2018.csv https://filedn.com/lRBwPhPxgV74tO0rDoe8SpH/athelstan_data/business_2018.csv\n",
    "!wget -O population_2017.csv https://filedn.com/lRBwPhPxgV74tO0rDoe8SpH/athelstan_data/population_2017.csv\n",
    "!wget -O house_prices.csv https://filedn.com/lRBwPhPxgV74tO0rDoe8SpH/athelstan_data/house_prices.csv\n",
    "!wget -O area_2015.csv https://filedn.com/lRBwPhPxgV74tO0rDoe8SpH/athelstan_data/area_2015.csv"
   ]
  },
  {
   "cell_type": "raw",
   "metadata": {},
   "source": [
    "# download amenity data (solely to save time; alternatively get this using the Foursquare API below)\n",
    "!wget -O amenities.pickle https://filedn.com/lRBwPhPxgV74tO0rDoe8SpH/athelstan_data/amenities.pickle"
   ]
  },
  {
   "cell_type": "markdown",
   "metadata": {},
   "source": [
    "## Constituencies"
   ]
  },
  {
   "cell_type": "markdown",
   "metadata": {},
   "source": [
    "Next we load in our constituency data."
   ]
  },
  {
   "cell_type": "code",
   "execution_count": 528,
   "metadata": {},
   "outputs": [
    {
     "name": "stdout",
     "output_type": "stream",
     "text": [
      "(650, 4)\n"
     ]
    },
    {
     "data": {
      "text/html": [
       "<div>\n",
       "<style scoped>\n",
       "    .dataframe tbody tr th:only-of-type {\n",
       "        vertical-align: middle;\n",
       "    }\n",
       "\n",
       "    .dataframe tbody tr th {\n",
       "        vertical-align: top;\n",
       "    }\n",
       "\n",
       "    .dataframe thead th {\n",
       "        text-align: right;\n",
       "    }\n",
       "</style>\n",
       "<table border=\"1\" class=\"dataframe\">\n",
       "  <thead>\n",
       "    <tr style=\"text-align: right;\">\n",
       "      <th></th>\n",
       "      <th>Constituency</th>\n",
       "      <th>Latitude</th>\n",
       "      <th>Longitude</th>\n",
       "      <th>Code</th>\n",
       "    </tr>\n",
       "  </thead>\n",
       "  <tbody>\n",
       "    <tr>\n",
       "      <th>0</th>\n",
       "      <td>Aldershot</td>\n",
       "      <td>51.277500</td>\n",
       "      <td>-0.762801</td>\n",
       "      <td>E14000530</td>\n",
       "    </tr>\n",
       "    <tr>\n",
       "      <th>1</th>\n",
       "      <td>Aldridge-Brownhills</td>\n",
       "      <td>52.614201</td>\n",
       "      <td>-1.927900</td>\n",
       "      <td>E14000531</td>\n",
       "    </tr>\n",
       "    <tr>\n",
       "      <th>2</th>\n",
       "      <td>Altrincham and Sale West</td>\n",
       "      <td>53.394199</td>\n",
       "      <td>-2.342090</td>\n",
       "      <td>E14000532</td>\n",
       "    </tr>\n",
       "    <tr>\n",
       "      <th>3</th>\n",
       "      <td>Amber Valley</td>\n",
       "      <td>53.047901</td>\n",
       "      <td>-1.388680</td>\n",
       "      <td>E14000533</td>\n",
       "    </tr>\n",
       "    <tr>\n",
       "      <th>4</th>\n",
       "      <td>Arundel and South Downs</td>\n",
       "      <td>50.912498</td>\n",
       "      <td>-0.415972</td>\n",
       "      <td>E14000534</td>\n",
       "    </tr>\n",
       "  </tbody>\n",
       "</table>\n",
       "</div>"
      ],
      "text/plain": [
       "               Constituency   Latitude  Longitude       Code\n",
       "0                 Aldershot  51.277500  -0.762801  E14000530\n",
       "1       Aldridge-Brownhills  52.614201  -1.927900  E14000531\n",
       "2  Altrincham and Sale West  53.394199  -2.342090  E14000532\n",
       "3              Amber Valley  53.047901  -1.388680  E14000533\n",
       "4   Arundel and South Downs  50.912498  -0.415972  E14000534"
      ]
     },
     "execution_count": 528,
     "metadata": {},
     "output_type": "execute_result"
    }
   ],
   "source": [
    "with open('constituencies.csv', 'r') as csv:\n",
    "    constituencies = pd.read_csv(csv, usecols=[0,1,2,7])\n",
    "\n",
    "print(constituencies.shape)\n",
    "constituencies.head()"
   ]
  },
  {
   "cell_type": "markdown",
   "metadata": {},
   "source": [
    "## Population and average age"
   ]
  },
  {
   "cell_type": "markdown",
   "metadata": {},
   "source": [
    "We now extract two of our variables: total population and average age."
   ]
  },
  {
   "cell_type": "code",
   "execution_count": 529,
   "metadata": {
    "scrolled": true
   },
   "outputs": [
    {
     "name": "stdout",
     "output_type": "stream",
     "text": [
      "(573, 93)\n"
     ]
    },
    {
     "data": {
      "text/html": [
       "<div>\n",
       "<style scoped>\n",
       "    .dataframe tbody tr th:only-of-type {\n",
       "        vertical-align: middle;\n",
       "    }\n",
       "\n",
       "    .dataframe tbody tr th {\n",
       "        vertical-align: top;\n",
       "    }\n",
       "\n",
       "    .dataframe thead th {\n",
       "        text-align: right;\n",
       "    }\n",
       "</style>\n",
       "<table border=\"1\" class=\"dataframe\">\n",
       "  <thead>\n",
       "    <tr style=\"text-align: right;\">\n",
       "      <th></th>\n",
       "      <th>Constituency</th>\n",
       "      <th>Population</th>\n",
       "      <th>0</th>\n",
       "      <th>1</th>\n",
       "      <th>2</th>\n",
       "      <th>3</th>\n",
       "      <th>4</th>\n",
       "      <th>5</th>\n",
       "      <th>6</th>\n",
       "      <th>7</th>\n",
       "      <th>...</th>\n",
       "      <th>81</th>\n",
       "      <th>82</th>\n",
       "      <th>83</th>\n",
       "      <th>84</th>\n",
       "      <th>85</th>\n",
       "      <th>86</th>\n",
       "      <th>87</th>\n",
       "      <th>88</th>\n",
       "      <th>89</th>\n",
       "      <th>90</th>\n",
       "    </tr>\n",
       "  </thead>\n",
       "  <tbody>\n",
       "    <tr>\n",
       "      <th>0</th>\n",
       "      <td>Aldershot</td>\n",
       "      <td>106,193</td>\n",
       "      <td>1,362</td>\n",
       "      <td>1,498</td>\n",
       "      <td>1,492</td>\n",
       "      <td>1,412</td>\n",
       "      <td>1,441</td>\n",
       "      <td>1,429</td>\n",
       "      <td>1,348</td>\n",
       "      <td>1,376</td>\n",
       "      <td>...</td>\n",
       "      <td>411</td>\n",
       "      <td>404</td>\n",
       "      <td>379</td>\n",
       "      <td>288</td>\n",
       "      <td>280</td>\n",
       "      <td>241</td>\n",
       "      <td>250</td>\n",
       "      <td>229</td>\n",
       "      <td>184</td>\n",
       "      <td>717</td>\n",
       "    </tr>\n",
       "    <tr>\n",
       "      <th>1</th>\n",
       "      <td>Aldridge-Brownhills</td>\n",
       "      <td>77,532</td>\n",
       "      <td>786</td>\n",
       "      <td>780</td>\n",
       "      <td>837</td>\n",
       "      <td>826</td>\n",
       "      <td>809</td>\n",
       "      <td>836</td>\n",
       "      <td>883</td>\n",
       "      <td>842</td>\n",
       "      <td>...</td>\n",
       "      <td>568</td>\n",
       "      <td>506</td>\n",
       "      <td>453</td>\n",
       "      <td>442</td>\n",
       "      <td>422</td>\n",
       "      <td>376</td>\n",
       "      <td>350</td>\n",
       "      <td>256</td>\n",
       "      <td>224</td>\n",
       "      <td>829</td>\n",
       "    </tr>\n",
       "    <tr>\n",
       "      <th>2</th>\n",
       "      <td>Altrincham and Sale West</td>\n",
       "      <td>101,457</td>\n",
       "      <td>1,065</td>\n",
       "      <td>1,264</td>\n",
       "      <td>1,193</td>\n",
       "      <td>1,303</td>\n",
       "      <td>1,304</td>\n",
       "      <td>1,433</td>\n",
       "      <td>1,444</td>\n",
       "      <td>1,425</td>\n",
       "      <td>...</td>\n",
       "      <td>565</td>\n",
       "      <td>515</td>\n",
       "      <td>506</td>\n",
       "      <td>428</td>\n",
       "      <td>441</td>\n",
       "      <td>399</td>\n",
       "      <td>393</td>\n",
       "      <td>335</td>\n",
       "      <td>286</td>\n",
       "      <td>1,128</td>\n",
       "    </tr>\n",
       "    <tr>\n",
       "      <th>3</th>\n",
       "      <td>Amber Valley</td>\n",
       "      <td>90,132</td>\n",
       "      <td>938</td>\n",
       "      <td>914</td>\n",
       "      <td>921</td>\n",
       "      <td>920</td>\n",
       "      <td>1,033</td>\n",
       "      <td>993</td>\n",
       "      <td>1,010</td>\n",
       "      <td>1,051</td>\n",
       "      <td>...</td>\n",
       "      <td>493</td>\n",
       "      <td>452</td>\n",
       "      <td>412</td>\n",
       "      <td>387</td>\n",
       "      <td>335</td>\n",
       "      <td>288</td>\n",
       "      <td>285</td>\n",
       "      <td>253</td>\n",
       "      <td>211</td>\n",
       "      <td>871</td>\n",
       "    </tr>\n",
       "    <tr>\n",
       "      <th>4</th>\n",
       "      <td>Arundel and South Downs</td>\n",
       "      <td>100,501</td>\n",
       "      <td>802</td>\n",
       "      <td>863</td>\n",
       "      <td>945</td>\n",
       "      <td>936</td>\n",
       "      <td>979</td>\n",
       "      <td>1,112</td>\n",
       "      <td>1,117</td>\n",
       "      <td>1,164</td>\n",
       "      <td>...</td>\n",
       "      <td>828</td>\n",
       "      <td>761</td>\n",
       "      <td>664</td>\n",
       "      <td>615</td>\n",
       "      <td>574</td>\n",
       "      <td>574</td>\n",
       "      <td>504</td>\n",
       "      <td>445</td>\n",
       "      <td>399</td>\n",
       "      <td>1,455</td>\n",
       "    </tr>\n",
       "  </tbody>\n",
       "</table>\n",
       "<p>5 rows × 93 columns</p>\n",
       "</div>"
      ],
      "text/plain": [
       "               Constituency Population      0      1      2      3      4  \\\n",
       "0                 Aldershot    106,193  1,362  1,498  1,492  1,412  1,441   \n",
       "1       Aldridge-Brownhills     77,532    786    780    837    826    809   \n",
       "2  Altrincham and Sale West    101,457  1,065  1,264  1,193  1,303  1,304   \n",
       "3              Amber Valley     90,132    938    914    921    920  1,033   \n",
       "4   Arundel and South Downs    100,501    802    863    945    936    979   \n",
       "\n",
       "       5      6      7  ...   81   82   83   84   85   86   87   88   89  \\\n",
       "0  1,429  1,348  1,376  ...  411  404  379  288  280  241  250  229  184   \n",
       "1    836    883    842  ...  568  506  453  442  422  376  350  256  224   \n",
       "2  1,433  1,444  1,425  ...  565  515  506  428  441  399  393  335  286   \n",
       "3    993  1,010  1,051  ...  493  452  412  387  335  288  285  253  211   \n",
       "4  1,112  1,117  1,164  ...  828  761  664  615  574  574  504  445  399   \n",
       "\n",
       "      90  \n",
       "0    717  \n",
       "1    829  \n",
       "2  1,128  \n",
       "3    871  \n",
       "4  1,455  \n",
       "\n",
       "[5 rows x 93 columns]"
      ]
     },
     "execution_count": 529,
     "metadata": {},
     "output_type": "execute_result"
    }
   ],
   "source": [
    "with open('population_2017.csv', 'r') as file:\n",
    "    population = pd.read_csv(\n",
    "            file, \n",
    "            header = 4, \n",
    "            names = ['id', 'Constituency', 'Population'] + list(range(90)) + [90],\n",
    "            usecols = lambda x: x not in ['id'])\n",
    "\n",
    "print(population.shape)\n",
    "population.head()"
   ]
  },
  {
   "cell_type": "markdown",
   "metadata": {},
   "source": [
    "We note that the numbers in this data set is of the wrong type:"
   ]
  },
  {
   "cell_type": "code",
   "execution_count": 530,
   "metadata": {},
   "outputs": [
    {
     "data": {
      "text/plain": [
       "Constituency    object\n",
       "Population      object\n",
       "0               object\n",
       "1               object\n",
       "2               object\n",
       "dtype: object"
      ]
     },
     "execution_count": 530,
     "metadata": {},
     "output_type": "execute_result"
    }
   ],
   "source": [
    "population.dtypes[:5]"
   ]
  },
  {
   "cell_type": "markdown",
   "metadata": {},
   "source": [
    "We therefore apply the following function, <tt>str_to_int</tt>, which changes the numeral strings to actual numerals."
   ]
  },
  {
   "cell_type": "code",
   "execution_count": 531,
   "metadata": {
    "scrolled": true
   },
   "outputs": [
    {
     "name": "stdout",
     "output_type": "stream",
     "text": [
      "Constituency    object\n",
      "Population       int64\n",
      "0                int64\n",
      "1                int64\n",
      "2                int64\n",
      "dtype: object\n"
     ]
    },
    {
     "data": {
      "text/html": [
       "<div>\n",
       "<style scoped>\n",
       "    .dataframe tbody tr th:only-of-type {\n",
       "        vertical-align: middle;\n",
       "    }\n",
       "\n",
       "    .dataframe tbody tr th {\n",
       "        vertical-align: top;\n",
       "    }\n",
       "\n",
       "    .dataframe thead th {\n",
       "        text-align: right;\n",
       "    }\n",
       "</style>\n",
       "<table border=\"1\" class=\"dataframe\">\n",
       "  <thead>\n",
       "    <tr style=\"text-align: right;\">\n",
       "      <th></th>\n",
       "      <th>Constituency</th>\n",
       "      <th>Population</th>\n",
       "      <th>0</th>\n",
       "      <th>1</th>\n",
       "      <th>2</th>\n",
       "      <th>3</th>\n",
       "      <th>4</th>\n",
       "      <th>5</th>\n",
       "      <th>6</th>\n",
       "      <th>7</th>\n",
       "      <th>...</th>\n",
       "      <th>81</th>\n",
       "      <th>82</th>\n",
       "      <th>83</th>\n",
       "      <th>84</th>\n",
       "      <th>85</th>\n",
       "      <th>86</th>\n",
       "      <th>87</th>\n",
       "      <th>88</th>\n",
       "      <th>89</th>\n",
       "      <th>90</th>\n",
       "    </tr>\n",
       "  </thead>\n",
       "  <tbody>\n",
       "    <tr>\n",
       "      <th>0</th>\n",
       "      <td>Aldershot</td>\n",
       "      <td>106193</td>\n",
       "      <td>1362</td>\n",
       "      <td>1498</td>\n",
       "      <td>1492</td>\n",
       "      <td>1412</td>\n",
       "      <td>1441</td>\n",
       "      <td>1429</td>\n",
       "      <td>1348</td>\n",
       "      <td>1376</td>\n",
       "      <td>...</td>\n",
       "      <td>411</td>\n",
       "      <td>404</td>\n",
       "      <td>379</td>\n",
       "      <td>288</td>\n",
       "      <td>280</td>\n",
       "      <td>241</td>\n",
       "      <td>250</td>\n",
       "      <td>229</td>\n",
       "      <td>184</td>\n",
       "      <td>717</td>\n",
       "    </tr>\n",
       "    <tr>\n",
       "      <th>1</th>\n",
       "      <td>Aldridge-Brownhills</td>\n",
       "      <td>77532</td>\n",
       "      <td>786</td>\n",
       "      <td>780</td>\n",
       "      <td>837</td>\n",
       "      <td>826</td>\n",
       "      <td>809</td>\n",
       "      <td>836</td>\n",
       "      <td>883</td>\n",
       "      <td>842</td>\n",
       "      <td>...</td>\n",
       "      <td>568</td>\n",
       "      <td>506</td>\n",
       "      <td>453</td>\n",
       "      <td>442</td>\n",
       "      <td>422</td>\n",
       "      <td>376</td>\n",
       "      <td>350</td>\n",
       "      <td>256</td>\n",
       "      <td>224</td>\n",
       "      <td>829</td>\n",
       "    </tr>\n",
       "    <tr>\n",
       "      <th>2</th>\n",
       "      <td>Altrincham and Sale West</td>\n",
       "      <td>101457</td>\n",
       "      <td>1065</td>\n",
       "      <td>1264</td>\n",
       "      <td>1193</td>\n",
       "      <td>1303</td>\n",
       "      <td>1304</td>\n",
       "      <td>1433</td>\n",
       "      <td>1444</td>\n",
       "      <td>1425</td>\n",
       "      <td>...</td>\n",
       "      <td>565</td>\n",
       "      <td>515</td>\n",
       "      <td>506</td>\n",
       "      <td>428</td>\n",
       "      <td>441</td>\n",
       "      <td>399</td>\n",
       "      <td>393</td>\n",
       "      <td>335</td>\n",
       "      <td>286</td>\n",
       "      <td>1128</td>\n",
       "    </tr>\n",
       "    <tr>\n",
       "      <th>3</th>\n",
       "      <td>Amber Valley</td>\n",
       "      <td>90132</td>\n",
       "      <td>938</td>\n",
       "      <td>914</td>\n",
       "      <td>921</td>\n",
       "      <td>920</td>\n",
       "      <td>1033</td>\n",
       "      <td>993</td>\n",
       "      <td>1010</td>\n",
       "      <td>1051</td>\n",
       "      <td>...</td>\n",
       "      <td>493</td>\n",
       "      <td>452</td>\n",
       "      <td>412</td>\n",
       "      <td>387</td>\n",
       "      <td>335</td>\n",
       "      <td>288</td>\n",
       "      <td>285</td>\n",
       "      <td>253</td>\n",
       "      <td>211</td>\n",
       "      <td>871</td>\n",
       "    </tr>\n",
       "    <tr>\n",
       "      <th>4</th>\n",
       "      <td>Arundel and South Downs</td>\n",
       "      <td>100501</td>\n",
       "      <td>802</td>\n",
       "      <td>863</td>\n",
       "      <td>945</td>\n",
       "      <td>936</td>\n",
       "      <td>979</td>\n",
       "      <td>1112</td>\n",
       "      <td>1117</td>\n",
       "      <td>1164</td>\n",
       "      <td>...</td>\n",
       "      <td>828</td>\n",
       "      <td>761</td>\n",
       "      <td>664</td>\n",
       "      <td>615</td>\n",
       "      <td>574</td>\n",
       "      <td>574</td>\n",
       "      <td>504</td>\n",
       "      <td>445</td>\n",
       "      <td>399</td>\n",
       "      <td>1455</td>\n",
       "    </tr>\n",
       "  </tbody>\n",
       "</table>\n",
       "<p>5 rows × 93 columns</p>\n",
       "</div>"
      ],
      "text/plain": [
       "               Constituency  Population     0     1     2     3     4     5  \\\n",
       "0                 Aldershot      106193  1362  1498  1492  1412  1441  1429   \n",
       "1       Aldridge-Brownhills       77532   786   780   837   826   809   836   \n",
       "2  Altrincham and Sale West      101457  1065  1264  1193  1303  1304  1433   \n",
       "3              Amber Valley       90132   938   914   921   920  1033   993   \n",
       "4   Arundel and South Downs      100501   802   863   945   936   979  1112   \n",
       "\n",
       "      6     7  ...   81   82   83   84   85   86   87   88   89    90  \n",
       "0  1348  1376  ...  411  404  379  288  280  241  250  229  184   717  \n",
       "1   883   842  ...  568  506  453  442  422  376  350  256  224   829  \n",
       "2  1444  1425  ...  565  515  506  428  441  399  393  335  286  1128  \n",
       "3  1010  1051  ...  493  452  412  387  335  288  285  253  211   871  \n",
       "4  1117  1164  ...  828  761  664  615  574  574  504  445  399  1455  \n",
       "\n",
       "[5 rows x 93 columns]"
      ]
     },
     "execution_count": 531,
     "metadata": {},
     "output_type": "execute_result"
    }
   ],
   "source": [
    "def str_to_int(x):\n",
    "    try:\n",
    "        if type(x) == type('x'):\n",
    "            return int(x.replace(',',''))\n",
    "        else:\n",
    "            return x\n",
    "    except:\n",
    "        return np.nan\n",
    "    \n",
    "for col in population.columns[1:]:\n",
    "    population[col] = population[col].apply(str_to_int)\n",
    "    \n",
    "print(population.dtypes[:5])\n",
    "population.head()"
   ]
  },
  {
   "cell_type": "markdown",
   "metadata": {},
   "source": [
    "### Total population"
   ]
  },
  {
   "cell_type": "markdown",
   "metadata": {},
   "source": [
    "For our first variable, we slice out the relevant data from the population dataframe, analyse it and normalise it."
   ]
  },
  {
   "cell_type": "code",
   "execution_count": 532,
   "metadata": {
    "scrolled": false
   },
   "outputs": [
    {
     "data": {
      "text/html": [
       "<div>\n",
       "<style scoped>\n",
       "    .dataframe tbody tr th:only-of-type {\n",
       "        vertical-align: middle;\n",
       "    }\n",
       "\n",
       "    .dataframe tbody tr th {\n",
       "        vertical-align: top;\n",
       "    }\n",
       "\n",
       "    .dataframe thead th {\n",
       "        text-align: right;\n",
       "    }\n",
       "</style>\n",
       "<table border=\"1\" class=\"dataframe\">\n",
       "  <thead>\n",
       "    <tr style=\"text-align: right;\">\n",
       "      <th></th>\n",
       "      <th>Constituency</th>\n",
       "      <th>Population</th>\n",
       "    </tr>\n",
       "  </thead>\n",
       "  <tbody>\n",
       "    <tr>\n",
       "      <th>0</th>\n",
       "      <td>Aldershot</td>\n",
       "      <td>106193</td>\n",
       "    </tr>\n",
       "    <tr>\n",
       "      <th>1</th>\n",
       "      <td>Aldridge-Brownhills</td>\n",
       "      <td>77532</td>\n",
       "    </tr>\n",
       "    <tr>\n",
       "      <th>2</th>\n",
       "      <td>Altrincham and Sale West</td>\n",
       "      <td>101457</td>\n",
       "    </tr>\n",
       "    <tr>\n",
       "      <th>3</th>\n",
       "      <td>Amber Valley</td>\n",
       "      <td>90132</td>\n",
       "    </tr>\n",
       "    <tr>\n",
       "      <th>4</th>\n",
       "      <td>Arundel and South Downs</td>\n",
       "      <td>100501</td>\n",
       "    </tr>\n",
       "  </tbody>\n",
       "</table>\n",
       "</div>"
      ],
      "text/plain": [
       "               Constituency  Population\n",
       "0                 Aldershot      106193\n",
       "1       Aldridge-Brownhills       77532\n",
       "2  Altrincham and Sale West      101457\n",
       "3              Amber Valley       90132\n",
       "4   Arundel and South Downs      100501"
      ]
     },
     "execution_count": 532,
     "metadata": {},
     "output_type": "execute_result"
    }
   ],
   "source": [
    "tot_pop = population[['Constituency', 'Population']].copy()\n",
    "\n",
    "tot_pop.head()"
   ]
  },
  {
   "cell_type": "code",
   "execution_count": 533,
   "metadata": {
    "scrolled": false
   },
   "outputs": [
    {
     "data": {
      "text/html": [
       "<div>\n",
       "<style scoped>\n",
       "    .dataframe tbody tr th:only-of-type {\n",
       "        vertical-align: middle;\n",
       "    }\n",
       "\n",
       "    .dataframe tbody tr th {\n",
       "        vertical-align: top;\n",
       "    }\n",
       "\n",
       "    .dataframe thead th {\n",
       "        text-align: right;\n",
       "    }\n",
       "</style>\n",
       "<table border=\"1\" class=\"dataframe\">\n",
       "  <thead>\n",
       "    <tr style=\"text-align: right;\">\n",
       "      <th></th>\n",
       "      <th>Population</th>\n",
       "    </tr>\n",
       "  </thead>\n",
       "  <tbody>\n",
       "    <tr>\n",
       "      <th>count</th>\n",
       "      <td>573.000000</td>\n",
       "    </tr>\n",
       "    <tr>\n",
       "      <th>mean</th>\n",
       "      <td>102521.108202</td>\n",
       "    </tr>\n",
       "    <tr>\n",
       "      <th>std</th>\n",
       "      <td>15951.486330</td>\n",
       "    </tr>\n",
       "    <tr>\n",
       "      <th>min</th>\n",
       "      <td>58941.000000</td>\n",
       "    </tr>\n",
       "    <tr>\n",
       "      <th>25%</th>\n",
       "      <td>92793.000000</td>\n",
       "    </tr>\n",
       "    <tr>\n",
       "      <th>50%</th>\n",
       "      <td>100945.000000</td>\n",
       "    </tr>\n",
       "    <tr>\n",
       "      <th>75%</th>\n",
       "      <td>110809.000000</td>\n",
       "    </tr>\n",
       "    <tr>\n",
       "      <th>max</th>\n",
       "      <td>185200.000000</td>\n",
       "    </tr>\n",
       "  </tbody>\n",
       "</table>\n",
       "</div>"
      ],
      "text/plain": [
       "          Population\n",
       "count     573.000000\n",
       "mean   102521.108202\n",
       "std     15951.486330\n",
       "min     58941.000000\n",
       "25%     92793.000000\n",
       "50%    100945.000000\n",
       "75%    110809.000000\n",
       "max    185200.000000"
      ]
     },
     "execution_count": 533,
     "metadata": {},
     "output_type": "execute_result"
    }
   ],
   "source": [
    "tot_pop.describe()"
   ]
  },
  {
   "cell_type": "code",
   "execution_count": 534,
   "metadata": {},
   "outputs": [
    {
     "data": {
      "text/html": [
       "<div>\n",
       "<style scoped>\n",
       "    .dataframe tbody tr th:only-of-type {\n",
       "        vertical-align: middle;\n",
       "    }\n",
       "\n",
       "    .dataframe tbody tr th {\n",
       "        vertical-align: top;\n",
       "    }\n",
       "\n",
       "    .dataframe thead th {\n",
       "        text-align: right;\n",
       "    }\n",
       "</style>\n",
       "<table border=\"1\" class=\"dataframe\">\n",
       "  <thead>\n",
       "    <tr style=\"text-align: right;\">\n",
       "      <th></th>\n",
       "      <th>Constituency</th>\n",
       "      <th>Population</th>\n",
       "    </tr>\n",
       "  </thead>\n",
       "  <tbody>\n",
       "    <tr>\n",
       "      <th>0</th>\n",
       "      <td>Aldershot</td>\n",
       "      <td>0.230191</td>\n",
       "    </tr>\n",
       "    <tr>\n",
       "      <th>1</th>\n",
       "      <td>Aldridge-Brownhills</td>\n",
       "      <td>-1.566569</td>\n",
       "    </tr>\n",
       "    <tr>\n",
       "      <th>2</th>\n",
       "      <td>Altrincham and Sale West</td>\n",
       "      <td>-0.066709</td>\n",
       "    </tr>\n",
       "    <tr>\n",
       "      <th>3</th>\n",
       "      <td>Amber Valley</td>\n",
       "      <td>-0.776674</td>\n",
       "    </tr>\n",
       "    <tr>\n",
       "      <th>4</th>\n",
       "      <td>Arundel and South Downs</td>\n",
       "      <td>-0.126641</td>\n",
       "    </tr>\n",
       "  </tbody>\n",
       "</table>\n",
       "</div>"
      ],
      "text/plain": [
       "               Constituency  Population\n",
       "0                 Aldershot    0.230191\n",
       "1       Aldridge-Brownhills   -1.566569\n",
       "2  Altrincham and Sale West   -0.066709\n",
       "3              Amber Valley   -0.776674\n",
       "4   Arundel and South Downs   -0.126641"
      ]
     },
     "execution_count": 534,
     "metadata": {},
     "output_type": "execute_result"
    }
   ],
   "source": [
    "# normalise data\n",
    "tot_pop_norm = tot_pop[['Constituency']].copy()\n",
    "\n",
    "tot = tot_pop['Population']\n",
    "tot_pop_norm['Population'] = (tot - tot.mean()) / tot.std()\n",
    "\n",
    "tot_pop_norm.head()"
   ]
  },
  {
   "cell_type": "code",
   "execution_count": 535,
   "metadata": {
    "scrolled": false
   },
   "outputs": [
    {
     "data": {
      "image/png": "[encoded data removed]",
      "text/plain": [
       "<Figure size 432x288 with 1 Axes>"
      ]
     },
     "metadata": {
      "needs_background": "light"
     },
     "output_type": "display_data"
    }
   ],
   "source": [
    "sorted_tot_pop = tot_pop_norm.sort_values(by=['Population'], ascending=False)\n",
    "\n",
    "plt.figure(figsize=(6,4))\n",
    "plt.bar(x=sorted_tot_pop['Constituency'], height=sorted_tot_pop['Population'])\n",
    "plt.xlabel('Constituency', fontsize=12)\n",
    "plt.ylabel('Normalised population', fontsize=12)\n",
    "plt.title('pop', fontsize=15)\n",
    "plt.tick_params(bottom=False, labelbottom=False) # disable ticks and labels along the bottom edge\n",
    "plt.show()"
   ]
  },
  {
   "cell_type": "markdown",
   "metadata": {},
   "source": [
    "### Average age"
   ]
  },
  {
   "cell_type": "markdown",
   "metadata": {},
   "source": [
    "Doing the same thing with average age, we slice out the relevant information from the population dataframe, analyse it and normalise it."
   ]
  },
  {
   "cell_type": "code",
   "execution_count": 536,
   "metadata": {},
   "outputs": [
    {
     "data": {
      "text/html": [
       "<div>\n",
       "<style scoped>\n",
       "    .dataframe tbody tr th:only-of-type {\n",
       "        vertical-align: middle;\n",
       "    }\n",
       "\n",
       "    .dataframe tbody tr th {\n",
       "        vertical-align: top;\n",
       "    }\n",
       "\n",
       "    .dataframe thead th {\n",
       "        text-align: right;\n",
       "    }\n",
       "</style>\n",
       "<table border=\"1\" class=\"dataframe\">\n",
       "  <thead>\n",
       "    <tr style=\"text-align: right;\">\n",
       "      <th></th>\n",
       "      <th>Constituency</th>\n",
       "      <th>Avg age</th>\n",
       "    </tr>\n",
       "  </thead>\n",
       "  <tbody>\n",
       "    <tr>\n",
       "      <th>0</th>\n",
       "      <td>Aldershot</td>\n",
       "      <td>38.408106</td>\n",
       "    </tr>\n",
       "    <tr>\n",
       "      <th>1</th>\n",
       "      <td>Aldridge-Brownhills</td>\n",
       "      <td>43.442024</td>\n",
       "    </tr>\n",
       "    <tr>\n",
       "      <th>2</th>\n",
       "      <td>Altrincham and Sale West</td>\n",
       "      <td>40.552323</td>\n",
       "    </tr>\n",
       "    <tr>\n",
       "      <th>3</th>\n",
       "      <td>Amber Valley</td>\n",
       "      <td>42.640183</td>\n",
       "    </tr>\n",
       "    <tr>\n",
       "      <th>4</th>\n",
       "      <td>Arundel and South Downs</td>\n",
       "      <td>46.161949</td>\n",
       "    </tr>\n",
       "  </tbody>\n",
       "</table>\n",
       "</div>"
      ],
      "text/plain": [
       "               Constituency    Avg age\n",
       "0                 Aldershot  38.408106\n",
       "1       Aldridge-Brownhills  43.442024\n",
       "2  Altrincham and Sale West  40.552323\n",
       "3              Amber Valley  42.640183\n",
       "4   Arundel and South Downs  46.161949"
      ]
     },
     "execution_count": 536,
     "metadata": {},
     "output_type": "execute_result"
    }
   ],
   "source": [
    "avg_age = population[['Constituency']].copy()\n",
    "avg_age['Avg age'] = np.sum([population[i] / population['Population'] * i for i in range(0,91)], axis=0)\n",
    "\n",
    "avg_age.head()"
   ]
  },
  {
   "cell_type": "code",
   "execution_count": 537,
   "metadata": {},
   "outputs": [
    {
     "data": {
      "text/html": [
       "<div>\n",
       "<style scoped>\n",
       "    .dataframe tbody tr th:only-of-type {\n",
       "        vertical-align: middle;\n",
       "    }\n",
       "\n",
       "    .dataframe tbody tr th {\n",
       "        vertical-align: top;\n",
       "    }\n",
       "\n",
       "    .dataframe thead th {\n",
       "        text-align: right;\n",
       "    }\n",
       "</style>\n",
       "<table border=\"1\" class=\"dataframe\">\n",
       "  <thead>\n",
       "    <tr style=\"text-align: right;\">\n",
       "      <th></th>\n",
       "      <th>Avg age</th>\n",
       "    </tr>\n",
       "  </thead>\n",
       "  <tbody>\n",
       "    <tr>\n",
       "      <th>count</th>\n",
       "      <td>573.000000</td>\n",
       "    </tr>\n",
       "    <tr>\n",
       "      <th>mean</th>\n",
       "      <td>40.351896</td>\n",
       "    </tr>\n",
       "    <tr>\n",
       "      <th>std</th>\n",
       "      <td>3.460208</td>\n",
       "    </tr>\n",
       "    <tr>\n",
       "      <th>min</th>\n",
       "      <td>30.399155</td>\n",
       "    </tr>\n",
       "    <tr>\n",
       "      <th>25%</th>\n",
       "      <td>38.194240</td>\n",
       "    </tr>\n",
       "    <tr>\n",
       "      <th>50%</th>\n",
       "      <td>40.641516</td>\n",
       "    </tr>\n",
       "    <tr>\n",
       "      <th>75%</th>\n",
       "      <td>42.806370</td>\n",
       "    </tr>\n",
       "    <tr>\n",
       "      <th>max</th>\n",
       "      <td>49.511447</td>\n",
       "    </tr>\n",
       "  </tbody>\n",
       "</table>\n",
       "</div>"
      ],
      "text/plain": [
       "          Avg age\n",
       "count  573.000000\n",
       "mean    40.351896\n",
       "std      3.460208\n",
       "min     30.399155\n",
       "25%     38.194240\n",
       "50%     40.641516\n",
       "75%     42.806370\n",
       "max     49.511447"
      ]
     },
     "execution_count": 537,
     "metadata": {},
     "output_type": "execute_result"
    }
   ],
   "source": [
    "avg_age.describe()"
   ]
  },
  {
   "cell_type": "code",
   "execution_count": 538,
   "metadata": {},
   "outputs": [
    {
     "data": {
      "text/html": [
       "<div>\n",
       "<style scoped>\n",
       "    .dataframe tbody tr th:only-of-type {\n",
       "        vertical-align: middle;\n",
       "    }\n",
       "\n",
       "    .dataframe tbody tr th {\n",
       "        vertical-align: top;\n",
       "    }\n",
       "\n",
       "    .dataframe thead th {\n",
       "        text-align: right;\n",
       "    }\n",
       "</style>\n",
       "<table border=\"1\" class=\"dataframe\">\n",
       "  <thead>\n",
       "    <tr style=\"text-align: right;\">\n",
       "      <th></th>\n",
       "      <th>Constituency</th>\n",
       "      <th>Avg age</th>\n",
       "    </tr>\n",
       "  </thead>\n",
       "  <tbody>\n",
       "    <tr>\n",
       "      <th>0</th>\n",
       "      <td>Aldershot</td>\n",
       "      <td>-0.561755</td>\n",
       "    </tr>\n",
       "    <tr>\n",
       "      <th>1</th>\n",
       "      <td>Aldridge-Brownhills</td>\n",
       "      <td>0.893047</td>\n",
       "    </tr>\n",
       "    <tr>\n",
       "      <th>2</th>\n",
       "      <td>Altrincham and Sale West</td>\n",
       "      <td>0.057923</td>\n",
       "    </tr>\n",
       "    <tr>\n",
       "      <th>3</th>\n",
       "      <td>Amber Valley</td>\n",
       "      <td>0.661315</td>\n",
       "    </tr>\n",
       "    <tr>\n",
       "      <th>4</th>\n",
       "      <td>Arundel and South Downs</td>\n",
       "      <td>1.679105</td>\n",
       "    </tr>\n",
       "  </tbody>\n",
       "</table>\n",
       "</div>"
      ],
      "text/plain": [
       "               Constituency   Avg age\n",
       "0                 Aldershot -0.561755\n",
       "1       Aldridge-Brownhills  0.893047\n",
       "2  Altrincham and Sale West  0.057923\n",
       "3              Amber Valley  0.661315\n",
       "4   Arundel and South Downs  1.679105"
      ]
     },
     "execution_count": 538,
     "metadata": {},
     "output_type": "execute_result"
    }
   ],
   "source": [
    "# normalise data\n",
    "avg_age_norm = avg_age[['Constituency']].copy()\n",
    "age = avg_age['Avg age']\n",
    "avg_age_norm['Avg age'] = (age - age.mean()) / age.std()\n",
    "\n",
    "avg_age_norm.head()"
   ]
  },
  {
   "cell_type": "code",
   "execution_count": 539,
   "metadata": {
    "scrolled": true
   },
   "outputs": [
    {
     "data": {
      "image/png": "[encoded data removed]",
      "text/plain": [
       "<Figure size 432x288 with 1 Axes>"
      ]
     },
     "metadata": {
      "needs_background": "light"
     },
     "output_type": "display_data"
    }
   ],
   "source": [
    "sorted_avg_age = avg_age_norm.sort_values(by=['Avg age'], ascending=False)\n",
    "\n",
    "plt.figure(figsize=(6,4))\n",
    "plt.bar(x=sorted_avg_age['Constituency'], height=sorted_avg_age['Avg age'])\n",
    "plt.xlabel('Constituency', fontsize=12)\n",
    "plt.ylabel('Normalised average age', fontsize=12)\n",
    "plt.title('avg_age', fontsize=15)\n",
    "plt.tick_params(bottom=False, labelbottom=False) # disable ticks and labels along the bottom edge\n",
    "plt.show()"
   ]
  },
  {
   "cell_type": "markdown",
   "metadata": {},
   "source": [
    "Given our first two variables, the distribution of our constituencies looks as follows."
   ]
  },
  {
   "cell_type": "code",
   "execution_count": 540,
   "metadata": {
    "scrolled": false
   },
   "outputs": [
    {
     "data": {
      "image/png": "[encoded data removed]",
      "text/plain": [
       "<Figure size 432x432 with 1 Axes>"
      ]
     },
     "metadata": {},
     "output_type": "display_data"
    }
   ],
   "source": [
    "# plot the constituencies\n",
    "fig = plt.figure(figsize=(6,6))\n",
    "\n",
    "x = tot_pop_norm.drop('Constituency', axis=1)\n",
    "y = avg_age_norm.drop('Constituency', axis=1)\n",
    "\n",
    "plt.scatter(x, y)\n",
    "plt.title('pop + avg_age', fontsize=15)\n",
    "plt.xticks([])\n",
    "plt.yticks([])\n",
    "\n",
    "plt.show()"
   ]
  },
  {
   "cell_type": "markdown",
   "metadata": {},
   "source": [
    "## Area"
   ]
  },
  {
   "cell_type": "markdown",
   "metadata": {},
   "source": [
    "We now deal with our second variable in the same way."
   ]
  },
  {
   "cell_type": "code",
   "execution_count": 541,
   "metadata": {},
   "outputs": [
    {
     "name": "stdout",
     "output_type": "stream",
     "text": [
      "(632, 2)\n"
     ]
    },
    {
     "data": {
      "text/html": [
       "<div>\n",
       "<style scoped>\n",
       "    .dataframe tbody tr th:only-of-type {\n",
       "        vertical-align: middle;\n",
       "    }\n",
       "\n",
       "    .dataframe tbody tr th {\n",
       "        vertical-align: top;\n",
       "    }\n",
       "\n",
       "    .dataframe thead th {\n",
       "        text-align: right;\n",
       "    }\n",
       "</style>\n",
       "<table border=\"1\" class=\"dataframe\">\n",
       "  <thead>\n",
       "    <tr style=\"text-align: right;\">\n",
       "      <th></th>\n",
       "      <th>Constituency</th>\n",
       "      <th>Area</th>\n",
       "    </tr>\n",
       "  </thead>\n",
       "  <tbody>\n",
       "    <tr>\n",
       "      <th>0</th>\n",
       "      <td>Aldershot</td>\n",
       "      <td>5297.82</td>\n",
       "    </tr>\n",
       "    <tr>\n",
       "      <th>1</th>\n",
       "      <td>Aldridge-Brownhills</td>\n",
       "      <td>4401.65</td>\n",
       "    </tr>\n",
       "    <tr>\n",
       "      <th>2</th>\n",
       "      <td>Altrincham and Sale West</td>\n",
       "      <td>5092.94</td>\n",
       "    </tr>\n",
       "    <tr>\n",
       "      <th>3</th>\n",
       "      <td>Amber Valley</td>\n",
       "      <td>12464.64</td>\n",
       "    </tr>\n",
       "    <tr>\n",
       "      <th>4</th>\n",
       "      <td>Arundel and South Downs</td>\n",
       "      <td>64651.29</td>\n",
       "    </tr>\n",
       "  </tbody>\n",
       "</table>\n",
       "</div>"
      ],
      "text/plain": [
       "               Constituency      Area\n",
       "0                 Aldershot   5297.82\n",
       "1       Aldridge-Brownhills   4401.65\n",
       "2  Altrincham and Sale West   5092.94\n",
       "3              Amber Valley  12464.64\n",
       "4   Arundel and South Downs  64651.29"
      ]
     },
     "execution_count": 541,
     "metadata": {},
     "output_type": "execute_result"
    }
   ],
   "source": [
    "with open('area_2015.csv', 'r') as csv:\n",
    "    area = pd.read_csv(csv, usecols = [1,2], header = 0, names = ['Constituency', 'Area'])\n",
    "\n",
    "print(area.shape)\n",
    "area.head()"
   ]
  },
  {
   "cell_type": "code",
   "execution_count": 542,
   "metadata": {},
   "outputs": [
    {
     "data": {
      "text/html": [
       "<div>\n",
       "<style scoped>\n",
       "    .dataframe tbody tr th:only-of-type {\n",
       "        vertical-align: middle;\n",
       "    }\n",
       "\n",
       "    .dataframe tbody tr th {\n",
       "        vertical-align: top;\n",
       "    }\n",
       "\n",
       "    .dataframe thead th {\n",
       "        text-align: right;\n",
       "    }\n",
       "</style>\n",
       "<table border=\"1\" class=\"dataframe\">\n",
       "  <thead>\n",
       "    <tr style=\"text-align: right;\">\n",
       "      <th></th>\n",
       "      <th>Area</th>\n",
       "    </tr>\n",
       "  </thead>\n",
       "  <tbody>\n",
       "    <tr>\n",
       "      <th>count</th>\n",
       "      <td>6.320000e+02</td>\n",
       "    </tr>\n",
       "    <tr>\n",
       "      <th>mean</th>\n",
       "      <td>3.708839e+04</td>\n",
       "    </tr>\n",
       "    <tr>\n",
       "      <th>std</th>\n",
       "      <td>8.827636e+04</td>\n",
       "    </tr>\n",
       "    <tr>\n",
       "      <th>min</th>\n",
       "      <td>7.380400e+02</td>\n",
       "    </tr>\n",
       "    <tr>\n",
       "      <th>25%</th>\n",
       "      <td>3.279658e+03</td>\n",
       "    </tr>\n",
       "    <tr>\n",
       "      <th>50%</th>\n",
       "      <td>1.043906e+04</td>\n",
       "    </tr>\n",
       "    <tr>\n",
       "      <th>75%</th>\n",
       "      <td>3.567681e+04</td>\n",
       "    </tr>\n",
       "    <tr>\n",
       "      <th>max</th>\n",
       "      <td>1.276786e+06</td>\n",
       "    </tr>\n",
       "  </tbody>\n",
       "</table>\n",
       "</div>"
      ],
      "text/plain": [
       "               Area\n",
       "count  6.320000e+02\n",
       "mean   3.708839e+04\n",
       "std    8.827636e+04\n",
       "min    7.380400e+02\n",
       "25%    3.279658e+03\n",
       "50%    1.043906e+04\n",
       "75%    3.567681e+04\n",
       "max    1.276786e+06"
      ]
     },
     "execution_count": 542,
     "metadata": {},
     "output_type": "execute_result"
    }
   ],
   "source": [
    "area.describe()"
   ]
  },
  {
   "cell_type": "code",
   "execution_count": 543,
   "metadata": {},
   "outputs": [
    {
     "data": {
      "text/html": [
       "<div>\n",
       "<style scoped>\n",
       "    .dataframe tbody tr th:only-of-type {\n",
       "        vertical-align: middle;\n",
       "    }\n",
       "\n",
       "    .dataframe tbody tr th {\n",
       "        vertical-align: top;\n",
       "    }\n",
       "\n",
       "    .dataframe thead th {\n",
       "        text-align: right;\n",
       "    }\n",
       "</style>\n",
       "<table border=\"1\" class=\"dataframe\">\n",
       "  <thead>\n",
       "    <tr style=\"text-align: right;\">\n",
       "      <th></th>\n",
       "      <th>Constituency</th>\n",
       "      <th>Area</th>\n",
       "    </tr>\n",
       "  </thead>\n",
       "  <tbody>\n",
       "    <tr>\n",
       "      <th>0</th>\n",
       "      <td>Aldershot</td>\n",
       "      <td>-0.360126</td>\n",
       "    </tr>\n",
       "    <tr>\n",
       "      <th>1</th>\n",
       "      <td>Aldridge-Brownhills</td>\n",
       "      <td>-0.370277</td>\n",
       "    </tr>\n",
       "    <tr>\n",
       "      <th>2</th>\n",
       "      <td>Altrincham and Sale West</td>\n",
       "      <td>-0.362446</td>\n",
       "    </tr>\n",
       "    <tr>\n",
       "      <th>3</th>\n",
       "      <td>Amber Valley</td>\n",
       "      <td>-0.278939</td>\n",
       "    </tr>\n",
       "    <tr>\n",
       "      <th>4</th>\n",
       "      <td>Arundel and South Downs</td>\n",
       "      <td>0.312234</td>\n",
       "    </tr>\n",
       "  </tbody>\n",
       "</table>\n",
       "</div>"
      ],
      "text/plain": [
       "               Constituency      Area\n",
       "0                 Aldershot -0.360126\n",
       "1       Aldridge-Brownhills -0.370277\n",
       "2  Altrincham and Sale West -0.362446\n",
       "3              Amber Valley -0.278939\n",
       "4   Arundel and South Downs  0.312234"
      ]
     },
     "execution_count": 543,
     "metadata": {},
     "output_type": "execute_result"
    }
   ],
   "source": [
    "# normalise data\n",
    "area_norm = area[['Constituency']].copy()\n",
    "area_series = area['Area']\n",
    "area_norm['Area'] = (area_series - area_series.mean()) / area_series.std()\n",
    "\n",
    "area_norm.head()"
   ]
  },
  {
   "cell_type": "code",
   "execution_count": 544,
   "metadata": {
    "scrolled": false
   },
   "outputs": [
    {
     "data": {
      "image/png": "[encoded data removed]",
      "text/plain": [
       "<Figure size 432x288 with 1 Axes>"
      ]
     },
     "metadata": {
      "needs_background": "light"
     },
     "output_type": "display_data"
    }
   ],
   "source": [
    "sorted_area = area_norm.sort_values(by=['Area'], ascending=False)\n",
    "\n",
    "plt.figure(figsize=(6,4))\n",
    "plt.bar(x=sorted_area['Constituency'], height=sorted_area['Area'])\n",
    "plt.xlabel('Constituency', fontsize=12)\n",
    "plt.ylabel('Normalised area', fontsize=12)\n",
    "plt.title('area', fontsize=15)\n",
    "plt.tick_params(bottom=False, labelbottom=False) # disable ticks and labels along the bottom edge\n",
    "plt.show()"
   ]
  },
  {
   "cell_type": "code",
   "execution_count": 545,
   "metadata": {
    "scrolled": false
   },
   "outputs": [
    {
     "data": {
      "image/png": "[encoded data removed]",
      "text/plain": [
       "<Figure size 432x432 with 1 Axes>"
      ]
     },
     "metadata": {},
     "output_type": "display_data"
    }
   ],
   "source": [
    "# plot the constituencies\n",
    "fig = plt.figure(figsize=(6,6))\n",
    "\n",
    "df = pd.merge(tot_pop_norm, avg_age_norm, on = ['Constituency'])\n",
    "df = pd.merge(df, area_norm, on = ['Constituency'])\n",
    "\n",
    "pca = PCA(n_components=2)\n",
    "df_2d = pca.fit_transform(df.drop('Constituency', axis=1).set_index(df['Constituency']))\n",
    "\n",
    "x = np.dot(df_2d, [1,0])\n",
    "y = np.dot(df_2d, [0,1])\n",
    "\n",
    "plt.scatter(x, y)\n",
    "plt.title('pop + avg_age + area', fontsize=15)\n",
    "plt.xticks([])\n",
    "plt.yticks([])\n",
    "\n",
    "plt.show()"
   ]
  },
  {
   "cell_type": "markdown",
   "metadata": {},
   "source": [
    "## House prices"
   ]
  },
  {
   "cell_type": "markdown",
   "metadata": {},
   "source": [
    "We proceed with our fourth variable, median house price."
   ]
  },
  {
   "cell_type": "code",
   "execution_count": 546,
   "metadata": {
    "scrolled": true
   },
   "outputs": [
    {
     "name": "stdout",
     "output_type": "stream",
     "text": [
      "(573, 2)\n"
     ]
    },
    {
     "data": {
      "text/html": [
       "<div>\n",
       "<style scoped>\n",
       "    .dataframe tbody tr th:only-of-type {\n",
       "        vertical-align: middle;\n",
       "    }\n",
       "\n",
       "    .dataframe tbody tr th {\n",
       "        vertical-align: top;\n",
       "    }\n",
       "\n",
       "    .dataframe thead th {\n",
       "        text-align: right;\n",
       "    }\n",
       "</style>\n",
       "<table border=\"1\" class=\"dataframe\">\n",
       "  <thead>\n",
       "    <tr style=\"text-align: right;\">\n",
       "      <th></th>\n",
       "      <th>Constituency</th>\n",
       "      <th>Median house price</th>\n",
       "    </tr>\n",
       "  </thead>\n",
       "  <tbody>\n",
       "    <tr>\n",
       "      <th>0</th>\n",
       "      <td>Aldershot</td>\n",
       "      <td>213000</td>\n",
       "    </tr>\n",
       "    <tr>\n",
       "      <th>1</th>\n",
       "      <td>Aldridge-Brownhills</td>\n",
       "      <td>155000</td>\n",
       "    </tr>\n",
       "    <tr>\n",
       "      <th>2</th>\n",
       "      <td>Altrincham and Sale West</td>\n",
       "      <td>236000</td>\n",
       "    </tr>\n",
       "    <tr>\n",
       "      <th>3</th>\n",
       "      <td>Amber Valley</td>\n",
       "      <td>120000</td>\n",
       "    </tr>\n",
       "    <tr>\n",
       "      <th>4</th>\n",
       "      <td>Arundel and South Downs</td>\n",
       "      <td>299998</td>\n",
       "    </tr>\n",
       "  </tbody>\n",
       "</table>\n",
       "</div>"
      ],
      "text/plain": [
       "               Constituency  Median house price\n",
       "0                 Aldershot              213000\n",
       "1       Aldridge-Brownhills              155000\n",
       "2  Altrincham and Sale West              236000\n",
       "3              Amber Valley              120000\n",
       "4   Arundel and South Downs              299998"
      ]
     },
     "execution_count": 546,
     "metadata": {},
     "output_type": "execute_result"
    }
   ],
   "source": [
    "with open('house_prices.csv', 'r') as csv:\n",
    "    house_prices = pd.read_csv(csv, usecols=[1,92])\n",
    "    \n",
    "house_prices.columns = ['Constituency', 'Median house price']\n",
    "\n",
    "print(house_prices.shape)\n",
    "house_prices.head()"
   ]
  },
  {
   "cell_type": "code",
   "execution_count": 547,
   "metadata": {
    "scrolled": false
   },
   "outputs": [
    {
     "data": {
      "text/html": [
       "<div>\n",
       "<style scoped>\n",
       "    .dataframe tbody tr th:only-of-type {\n",
       "        vertical-align: middle;\n",
       "    }\n",
       "\n",
       "    .dataframe tbody tr th {\n",
       "        vertical-align: top;\n",
       "    }\n",
       "\n",
       "    .dataframe thead th {\n",
       "        text-align: right;\n",
       "    }\n",
       "</style>\n",
       "<table border=\"1\" class=\"dataframe\">\n",
       "  <thead>\n",
       "    <tr style=\"text-align: right;\">\n",
       "      <th></th>\n",
       "      <th>Median house price</th>\n",
       "    </tr>\n",
       "  </thead>\n",
       "  <tbody>\n",
       "    <tr>\n",
       "      <th>count</th>\n",
       "      <td>573.000000</td>\n",
       "    </tr>\n",
       "    <tr>\n",
       "      <th>mean</th>\n",
       "      <td>190620.279232</td>\n",
       "    </tr>\n",
       "    <tr>\n",
       "      <th>std</th>\n",
       "      <td>96022.411166</td>\n",
       "    </tr>\n",
       "    <tr>\n",
       "      <th>min</th>\n",
       "      <td>62000.000000</td>\n",
       "    </tr>\n",
       "    <tr>\n",
       "      <th>25%</th>\n",
       "      <td>125000.000000</td>\n",
       "    </tr>\n",
       "    <tr>\n",
       "      <th>50%</th>\n",
       "      <td>165625.000000</td>\n",
       "    </tr>\n",
       "    <tr>\n",
       "      <th>75%</th>\n",
       "      <td>225000.000000</td>\n",
       "    </tr>\n",
       "    <tr>\n",
       "      <th>max</th>\n",
       "      <td>980000.000000</td>\n",
       "    </tr>\n",
       "  </tbody>\n",
       "</table>\n",
       "</div>"
      ],
      "text/plain": [
       "       Median house price\n",
       "count          573.000000\n",
       "mean        190620.279232\n",
       "std          96022.411166\n",
       "min          62000.000000\n",
       "25%         125000.000000\n",
       "50%         165625.000000\n",
       "75%         225000.000000\n",
       "max         980000.000000"
      ]
     },
     "execution_count": 547,
     "metadata": {},
     "output_type": "execute_result"
    }
   ],
   "source": [
    "house_prices.describe()"
   ]
  },
  {
   "cell_type": "code",
   "execution_count": 548,
   "metadata": {
    "scrolled": false
   },
   "outputs": [
    {
     "data": {
      "text/html": [
       "<div>\n",
       "<style scoped>\n",
       "    .dataframe tbody tr th:only-of-type {\n",
       "        vertical-align: middle;\n",
       "    }\n",
       "\n",
       "    .dataframe tbody tr th {\n",
       "        vertical-align: top;\n",
       "    }\n",
       "\n",
       "    .dataframe thead th {\n",
       "        text-align: right;\n",
       "    }\n",
       "</style>\n",
       "<table border=\"1\" class=\"dataframe\">\n",
       "  <thead>\n",
       "    <tr style=\"text-align: right;\">\n",
       "      <th></th>\n",
       "      <th>Constituency</th>\n",
       "      <th>Median house price</th>\n",
       "    </tr>\n",
       "  </thead>\n",
       "  <tbody>\n",
       "    <tr>\n",
       "      <th>0</th>\n",
       "      <td>Aldershot</td>\n",
       "      <td>0.233068</td>\n",
       "    </tr>\n",
       "    <tr>\n",
       "      <th>1</th>\n",
       "      <td>Aldridge-Brownhills</td>\n",
       "      <td>-0.370958</td>\n",
       "    </tr>\n",
       "    <tr>\n",
       "      <th>2</th>\n",
       "      <td>Altrincham and Sale West</td>\n",
       "      <td>0.472595</td>\n",
       "    </tr>\n",
       "    <tr>\n",
       "      <th>3</th>\n",
       "      <td>Amber Valley</td>\n",
       "      <td>-0.735456</td>\n",
       "    </tr>\n",
       "    <tr>\n",
       "      <th>4</th>\n",
       "      <td>Arundel and South Downs</td>\n",
       "      <td>1.139085</td>\n",
       "    </tr>\n",
       "  </tbody>\n",
       "</table>\n",
       "</div>"
      ],
      "text/plain": [
       "               Constituency  Median house price\n",
       "0                 Aldershot            0.233068\n",
       "1       Aldridge-Brownhills           -0.370958\n",
       "2  Altrincham and Sale West            0.472595\n",
       "3              Amber Valley           -0.735456\n",
       "4   Arundel and South Downs            1.139085"
      ]
     },
     "execution_count": 548,
     "metadata": {},
     "output_type": "execute_result"
    }
   ],
   "source": [
    "# normalise data\n",
    "house_prices_norm = house_prices[['Constituency']].copy()\n",
    "price = house_prices['Median house price']\n",
    "house_prices_norm['Median house price'] = (price - price.mean()) / price.std()\n",
    "\n",
    "house_prices_norm.head()"
   ]
  },
  {
   "cell_type": "code",
   "execution_count": 549,
   "metadata": {
    "scrolled": true
   },
   "outputs": [
    {
     "data": {
      "image/png": "[encoded data removed]",
      "text/plain": [
       "<Figure size 432x288 with 1 Axes>"
      ]
     },
     "metadata": {
      "needs_background": "light"
     },
     "output_type": "display_data"
    }
   ],
   "source": [
    "sorted_house_prices = house_prices_norm.sort_values(by=['Median house price'], ascending=False)\n",
    "\n",
    "plt.figure(figsize=(6,4))\n",
    "plt.bar(x=sorted_house_prices['Constituency'], height=sorted_house_prices['Median house price'])\n",
    "plt.xlabel('Constituency', fontsize=12)\n",
    "plt.ylabel('Normalised median house price in GBP', fontsize=12)\n",
    "plt.title('house_prices', fontsize=15)\n",
    "plt.tick_params(bottom=False, labelbottom=False) # disable ticks and labels along the bottom edge\n",
    "plt.show()"
   ]
  },
  {
   "cell_type": "code",
   "execution_count": 550,
   "metadata": {
    "scrolled": false
   },
   "outputs": [
    {
     "data": {
      "image/png": "[encoded data removed]",
      "text/plain": [
       "<Figure size 432x432 with 1 Axes>"
      ]
     },
     "metadata": {},
     "output_type": "display_data"
    }
   ],
   "source": [
    "# plot the constituencies\n",
    "fig = plt.figure(figsize=(6,6))\n",
    "\n",
    "df = pd.merge(tot_pop_norm, avg_age_norm, on = ['Constituency'])\n",
    "df = pd.merge(df, area_norm, on = ['Constituency'])\n",
    "df = pd.merge(df, house_prices_norm, on = ['Constituency'])\n",
    "\n",
    "pca = PCA(n_components=2)\n",
    "df_2d = pca.fit_transform(df.drop('Constituency', axis=1).set_index(df['Constituency']))\n",
    "\n",
    "x = np.dot(df_2d, [1,0])\n",
    "y = np.dot(df_2d, [0,1])\n",
    "\n",
    "plt.scatter(x, y)\n",
    "plt.title('pop + avg_age + area + house_price', fontsize=15)\n",
    "plt.xticks([])\n",
    "plt.yticks([])\n",
    "\n",
    "plt.show()"
   ]
  },
  {
   "cell_type": "markdown",
   "metadata": {},
   "source": [
    "## Businesses"
   ]
  },
  {
   "cell_type": "markdown",
   "metadata": {},
   "source": [
    "Next up, business variables. We will be using both the total number of businesses as well as a so-called business profile, being the distribution of the different sectors the businesses belong to. The constituencies in this data set are of the form <tt>code: name</tt>, so we first extract the names."
   ]
  },
  {
   "cell_type": "code",
   "execution_count": 551,
   "metadata": {
    "scrolled": true
   },
   "outputs": [
    {
     "name": "stdout",
     "output_type": "stream",
     "text": [
      "(650, 19)\n"
     ]
    },
    {
     "data": {
      "text/html": [
       "<div>\n",
       "<style scoped>\n",
       "    .dataframe tbody tr th:only-of-type {\n",
       "        vertical-align: middle;\n",
       "    }\n",
       "\n",
       "    .dataframe tbody tr th {\n",
       "        vertical-align: top;\n",
       "    }\n",
       "\n",
       "    .dataframe thead th {\n",
       "        text-align: right;\n",
       "    }\n",
       "</style>\n",
       "<table border=\"1\" class=\"dataframe\">\n",
       "  <thead>\n",
       "    <tr style=\"text-align: right;\">\n",
       "      <th></th>\n",
       "      <th>Constituency</th>\n",
       "      <th>Cat_1</th>\n",
       "      <th>Cat_2</th>\n",
       "      <th>Cat_3</th>\n",
       "      <th>Cat_4</th>\n",
       "      <th>Cat_5</th>\n",
       "      <th>Cat_6</th>\n",
       "      <th>Cat_7</th>\n",
       "      <th>Cat_8</th>\n",
       "      <th>Cat_9</th>\n",
       "      <th>Cat_10</th>\n",
       "      <th>Cat_11</th>\n",
       "      <th>Cat_12</th>\n",
       "      <th>Cat_13</th>\n",
       "      <th>Cat_14</th>\n",
       "      <th>Cat_15</th>\n",
       "      <th>Cat_16</th>\n",
       "      <th>Cat_17</th>\n",
       "      <th>Businesses</th>\n",
       "    </tr>\n",
       "  </thead>\n",
       "  <tbody>\n",
       "    <tr>\n",
       "      <th>0</th>\n",
       "      <td>Aberavon</td>\n",
       "      <td>40.0</td>\n",
       "      <td>125.0</td>\n",
       "      <td>190.0</td>\n",
       "      <td>55.0</td>\n",
       "      <td>65.0</td>\n",
       "      <td>120.0</td>\n",
       "      <td>60.0</td>\n",
       "      <td>145.0</td>\n",
       "      <td>65.0</td>\n",
       "      <td>20.0</td>\n",
       "      <td>30.0</td>\n",
       "      <td>140.0</td>\n",
       "      <td>120.0</td>\n",
       "      <td>0.0</td>\n",
       "      <td>20.0</td>\n",
       "      <td>65.0</td>\n",
       "      <td>115.0</td>\n",
       "      <td>1375.0</td>\n",
       "    </tr>\n",
       "    <tr>\n",
       "      <th>1</th>\n",
       "      <td>Aberconwy</td>\n",
       "      <td>280.0</td>\n",
       "      <td>115.0</td>\n",
       "      <td>240.0</td>\n",
       "      <td>80.0</td>\n",
       "      <td>55.0</td>\n",
       "      <td>195.0</td>\n",
       "      <td>55.0</td>\n",
       "      <td>360.0</td>\n",
       "      <td>75.0</td>\n",
       "      <td>35.0</td>\n",
       "      <td>60.0</td>\n",
       "      <td>245.0</td>\n",
       "      <td>150.0</td>\n",
       "      <td>5.0</td>\n",
       "      <td>25.0</td>\n",
       "      <td>115.0</td>\n",
       "      <td>160.0</td>\n",
       "      <td>2250.0</td>\n",
       "    </tr>\n",
       "    <tr>\n",
       "      <th>2</th>\n",
       "      <td>Aberdeen North</td>\n",
       "      <td>20.0</td>\n",
       "      <td>115.0</td>\n",
       "      <td>205.0</td>\n",
       "      <td>40.0</td>\n",
       "      <td>70.0</td>\n",
       "      <td>195.0</td>\n",
       "      <td>95.0</td>\n",
       "      <td>190.0</td>\n",
       "      <td>120.0</td>\n",
       "      <td>20.0</td>\n",
       "      <td>65.0</td>\n",
       "      <td>735.0</td>\n",
       "      <td>195.0</td>\n",
       "      <td>0.0</td>\n",
       "      <td>35.0</td>\n",
       "      <td>110.0</td>\n",
       "      <td>165.0</td>\n",
       "      <td>2375.0</td>\n",
       "    </tr>\n",
       "    <tr>\n",
       "      <th>3</th>\n",
       "      <td>Aberdeen South</td>\n",
       "      <td>60.0</td>\n",
       "      <td>275.0</td>\n",
       "      <td>330.0</td>\n",
       "      <td>70.0</td>\n",
       "      <td>135.0</td>\n",
       "      <td>215.0</td>\n",
       "      <td>110.0</td>\n",
       "      <td>255.0</td>\n",
       "      <td>240.0</td>\n",
       "      <td>100.0</td>\n",
       "      <td>225.0</td>\n",
       "      <td>2155.0</td>\n",
       "      <td>495.0</td>\n",
       "      <td>0.0</td>\n",
       "      <td>50.0</td>\n",
       "      <td>150.0</td>\n",
       "      <td>250.0</td>\n",
       "      <td>5115.0</td>\n",
       "    </tr>\n",
       "    <tr>\n",
       "      <th>4</th>\n",
       "      <td>Airdrie and Shotts</td>\n",
       "      <td>65.0</td>\n",
       "      <td>155.0</td>\n",
       "      <td>290.0</td>\n",
       "      <td>90.0</td>\n",
       "      <td>65.0</td>\n",
       "      <td>185.0</td>\n",
       "      <td>165.0</td>\n",
       "      <td>155.0</td>\n",
       "      <td>70.0</td>\n",
       "      <td>30.0</td>\n",
       "      <td>40.0</td>\n",
       "      <td>200.0</td>\n",
       "      <td>145.0</td>\n",
       "      <td>0.0</td>\n",
       "      <td>10.0</td>\n",
       "      <td>60.0</td>\n",
       "      <td>135.0</td>\n",
       "      <td>1860.0</td>\n",
       "    </tr>\n",
       "  </tbody>\n",
       "</table>\n",
       "</div>"
      ],
      "text/plain": [
       "         Constituency  Cat_1  Cat_2  Cat_3  Cat_4  Cat_5  Cat_6  Cat_7  Cat_8  \\\n",
       "0            Aberavon   40.0  125.0  190.0   55.0   65.0  120.0   60.0  145.0   \n",
       "1           Aberconwy  280.0  115.0  240.0   80.0   55.0  195.0   55.0  360.0   \n",
       "2      Aberdeen North   20.0  115.0  205.0   40.0   70.0  195.0   95.0  190.0   \n",
       "3      Aberdeen South   60.0  275.0  330.0   70.0  135.0  215.0  110.0  255.0   \n",
       "4  Airdrie and Shotts   65.0  155.0  290.0   90.0   65.0  185.0  165.0  155.0   \n",
       "\n",
       "   Cat_9  Cat_10  Cat_11  Cat_12  Cat_13  Cat_14  Cat_15  Cat_16  Cat_17  \\\n",
       "0   65.0    20.0    30.0   140.0   120.0     0.0    20.0    65.0   115.0   \n",
       "1   75.0    35.0    60.0   245.0   150.0     5.0    25.0   115.0   160.0   \n",
       "2  120.0    20.0    65.0   735.0   195.0     0.0    35.0   110.0   165.0   \n",
       "3  240.0   100.0   225.0  2155.0   495.0     0.0    50.0   150.0   250.0   \n",
       "4   70.0    30.0    40.0   200.0   145.0     0.0    10.0    60.0   135.0   \n",
       "\n",
       "   Businesses  \n",
       "0      1375.0  \n",
       "1      2250.0  \n",
       "2      2375.0  \n",
       "3      5115.0  \n",
       "4      1860.0  "
      ]
     },
     "execution_count": 551,
     "metadata": {},
     "output_type": "execute_result"
    }
   ],
   "source": [
    "def filter_constituency(x):\n",
    "    if x == x.upper():\n",
    "        return np.nan\n",
    "    else:\n",
    "        return x[10:].replace(':','').strip()\n",
    "\n",
    "with open('business_2018.csv') as file:\n",
    "    business = pd.read_csv(\n",
    "        file, \n",
    "        header = 5, \n",
    "        names = ['Constituency'] + [f'Cat_{i}' for i in range(1,18)] + ['Businesses'],\n",
    "        converters = {**{f'Cat_{i}' : str_to_int for i in range(1,18)}, **{'Constituency': filter_constituency, 'Businesses': str_to_int}}\n",
    "    )\n",
    "\n",
    "business = business.dropna().sort_values(by=['Constituency'])\n",
    "business.reset_index(inplace=True, drop=True)\n",
    "\n",
    "print(business.shape)\n",
    "business.head()"
   ]
  },
  {
   "cell_type": "markdown",
   "metadata": {},
   "source": [
    "### Total amount of business"
   ]
  },
  {
   "cell_type": "markdown",
   "metadata": {},
   "source": [
    "We treat the first business variable, total business, just like the previous variables."
   ]
  },
  {
   "cell_type": "code",
   "execution_count": 552,
   "metadata": {},
   "outputs": [
    {
     "data": {
      "text/html": [
       "<div>\n",
       "<style scoped>\n",
       "    .dataframe tbody tr th:only-of-type {\n",
       "        vertical-align: middle;\n",
       "    }\n",
       "\n",
       "    .dataframe tbody tr th {\n",
       "        vertical-align: top;\n",
       "    }\n",
       "\n",
       "    .dataframe thead th {\n",
       "        text-align: right;\n",
       "    }\n",
       "</style>\n",
       "<table border=\"1\" class=\"dataframe\">\n",
       "  <thead>\n",
       "    <tr style=\"text-align: right;\">\n",
       "      <th></th>\n",
       "      <th>Businesses</th>\n",
       "    </tr>\n",
       "  </thead>\n",
       "  <tbody>\n",
       "    <tr>\n",
       "      <th>count</th>\n",
       "      <td>650.000000</td>\n",
       "    </tr>\n",
       "    <tr>\n",
       "      <th>mean</th>\n",
       "      <td>4106.830769</td>\n",
       "    </tr>\n",
       "    <tr>\n",
       "      <th>std</th>\n",
       "      <td>3078.665083</td>\n",
       "    </tr>\n",
       "    <tr>\n",
       "      <th>min</th>\n",
       "      <td>1190.000000</td>\n",
       "    </tr>\n",
       "    <tr>\n",
       "      <th>25%</th>\n",
       "      <td>2771.250000</td>\n",
       "    </tr>\n",
       "    <tr>\n",
       "      <th>50%</th>\n",
       "      <td>3700.000000</td>\n",
       "    </tr>\n",
       "    <tr>\n",
       "      <th>75%</th>\n",
       "      <td>4865.000000</td>\n",
       "    </tr>\n",
       "    <tr>\n",
       "      <th>max</th>\n",
       "      <td>66355.000000</td>\n",
       "    </tr>\n",
       "  </tbody>\n",
       "</table>\n",
       "</div>"
      ],
      "text/plain": [
       "         Businesses\n",
       "count    650.000000\n",
       "mean    4106.830769\n",
       "std     3078.665083\n",
       "min     1190.000000\n",
       "25%     2771.250000\n",
       "50%     3700.000000\n",
       "75%     4865.000000\n",
       "max    66355.000000"
      ]
     },
     "execution_count": 552,
     "metadata": {},
     "output_type": "execute_result"
    }
   ],
   "source": [
    "tot_business = business[['Constituency', 'Businesses']].copy()\n",
    "tot_business.describe()"
   ]
  },
  {
   "cell_type": "code",
   "execution_count": 553,
   "metadata": {
    "scrolled": false
   },
   "outputs": [
    {
     "data": {
      "text/html": [
       "<div>\n",
       "<style scoped>\n",
       "    .dataframe tbody tr th:only-of-type {\n",
       "        vertical-align: middle;\n",
       "    }\n",
       "\n",
       "    .dataframe tbody tr th {\n",
       "        vertical-align: top;\n",
       "    }\n",
       "\n",
       "    .dataframe thead th {\n",
       "        text-align: right;\n",
       "    }\n",
       "</style>\n",
       "<table border=\"1\" class=\"dataframe\">\n",
       "  <thead>\n",
       "    <tr style=\"text-align: right;\">\n",
       "      <th></th>\n",
       "      <th>Constituency</th>\n",
       "      <th>Businesses</th>\n",
       "    </tr>\n",
       "  </thead>\n",
       "  <tbody>\n",
       "    <tr>\n",
       "      <th>0</th>\n",
       "      <td>Aberavon</td>\n",
       "      <td>-0.887343</td>\n",
       "    </tr>\n",
       "    <tr>\n",
       "      <th>1</th>\n",
       "      <td>Aberconwy</td>\n",
       "      <td>-0.603129</td>\n",
       "    </tr>\n",
       "    <tr>\n",
       "      <th>2</th>\n",
       "      <td>Aberdeen North</td>\n",
       "      <td>-0.562527</td>\n",
       "    </tr>\n",
       "    <tr>\n",
       "      <th>3</th>\n",
       "      <td>Aberdeen South</td>\n",
       "      <td>0.327470</td>\n",
       "    </tr>\n",
       "    <tr>\n",
       "      <th>4</th>\n",
       "      <td>Airdrie and Shotts</td>\n",
       "      <td>-0.729807</td>\n",
       "    </tr>\n",
       "  </tbody>\n",
       "</table>\n",
       "</div>"
      ],
      "text/plain": [
       "         Constituency  Businesses\n",
       "0            Aberavon   -0.887343\n",
       "1           Aberconwy   -0.603129\n",
       "2      Aberdeen North   -0.562527\n",
       "3      Aberdeen South    0.327470\n",
       "4  Airdrie and Shotts   -0.729807"
      ]
     },
     "execution_count": 553,
     "metadata": {},
     "output_type": "execute_result"
    }
   ],
   "source": [
    "# normalise data\n",
    "tot_business_norm = tot_business[['Constituency']].copy()\n",
    "businesses = tot_business['Businesses']\n",
    "tot_business_norm['Businesses'] = (businesses - businesses.mean()) / businesses.std()\n",
    "\n",
    "tot_business_norm.head()"
   ]
  },
  {
   "cell_type": "code",
   "execution_count": 554,
   "metadata": {
    "scrolled": true
   },
   "outputs": [
    {
     "data": {
      "image/png": "[encoded data removed]",
      "text/plain": [
       "<Figure size 432x288 with 1 Axes>"
      ]
     },
     "metadata": {
      "needs_background": "light"
     },
     "output_type": "display_data"
    }
   ],
   "source": [
    "sorted_business = tot_business_norm.sort_values(by=['Businesses'], ascending=False)\n",
    "\n",
    "plt.figure(figsize=(6,4))\n",
    "plt.bar(x=sorted_business['Constituency'], height=sorted_business['Businesses'])\n",
    "plt.xlabel('Constituency', fontsize=12)\n",
    "plt.ylabel('Normalised amount of businesses', fontsize=12)\n",
    "plt.title('business', fontsize=15)\n",
    "plt.tick_params(bottom=False, labelbottom=False) # disable ticks and labels along the bottom edge\n",
    "plt.show()"
   ]
  },
  {
   "cell_type": "code",
   "execution_count": 555,
   "metadata": {
    "scrolled": false
   },
   "outputs": [
    {
     "data": {
      "image/png": "[encoded data removed]",
      "text/plain": [
       "<Figure size 432x432 with 1 Axes>"
      ]
     },
     "metadata": {},
     "output_type": "display_data"
    }
   ],
   "source": [
    "# plot the constituencies\n",
    "fig = plt.figure(figsize=(6,6))\n",
    "\n",
    "df = pd.merge(tot_pop_norm, avg_age_norm, on = ['Constituency'])\n",
    "df = pd.merge(df, area_norm, on = ['Constituency'])\n",
    "df = pd.merge(df, house_prices_norm, on = ['Constituency'])\n",
    "df = pd.merge(df, tot_business_norm, on = ['Constituency'])\n",
    "\n",
    "pca = PCA(n_components=2)\n",
    "df_2d = pca.fit_transform(df.drop('Constituency', axis=1).set_index(df['Constituency']))\n",
    "\n",
    "x = np.dot(df_2d, [1,0])\n",
    "y = np.dot(df_2d, [0,1])\n",
    "\n",
    "plt.scatter(x, y)\n",
    "plt.title('pop + avg_age + area + house_price + business', fontsize=15)\n",
    "plt.xticks([])\n",
    "plt.yticks([])\n",
    "\n",
    "plt.show()"
   ]
  },
  {
   "cell_type": "markdown",
   "metadata": {},
   "source": [
    "### Business profile"
   ]
  },
  {
   "cell_type": "markdown",
   "metadata": {},
   "source": [
    "To get the business profile, we use a Principal Component Analysis on the distribution of the 17 different business sectors."
   ]
  },
  {
   "cell_type": "code",
   "execution_count": 556,
   "metadata": {
    "scrolled": true
   },
   "outputs": [
    {
     "data": {
      "text/html": [
       "<div>\n",
       "<style scoped>\n",
       "    .dataframe tbody tr th:only-of-type {\n",
       "        vertical-align: middle;\n",
       "    }\n",
       "\n",
       "    .dataframe tbody tr th {\n",
       "        vertical-align: top;\n",
       "    }\n",
       "\n",
       "    .dataframe thead th {\n",
       "        text-align: right;\n",
       "    }\n",
       "</style>\n",
       "<table border=\"1\" class=\"dataframe\">\n",
       "  <thead>\n",
       "    <tr style=\"text-align: right;\">\n",
       "      <th></th>\n",
       "      <th>Constituency</th>\n",
       "      <th>Cat_1</th>\n",
       "      <th>Cat_2</th>\n",
       "      <th>Cat_3</th>\n",
       "      <th>Cat_4</th>\n",
       "      <th>Cat_5</th>\n",
       "      <th>Cat_6</th>\n",
       "      <th>Cat_7</th>\n",
       "      <th>Cat_8</th>\n",
       "      <th>Cat_9</th>\n",
       "      <th>Cat_10</th>\n",
       "      <th>Cat_11</th>\n",
       "      <th>Cat_12</th>\n",
       "      <th>Cat_13</th>\n",
       "      <th>Cat_14</th>\n",
       "      <th>Cat_15</th>\n",
       "      <th>Cat_16</th>\n",
       "      <th>Cat_17</th>\n",
       "    </tr>\n",
       "  </thead>\n",
       "  <tbody>\n",
       "    <tr>\n",
       "      <th>0</th>\n",
       "      <td>Aberavon</td>\n",
       "      <td>0.029091</td>\n",
       "      <td>0.090909</td>\n",
       "      <td>0.138182</td>\n",
       "      <td>0.040000</td>\n",
       "      <td>0.047273</td>\n",
       "      <td>0.087273</td>\n",
       "      <td>0.043636</td>\n",
       "      <td>0.105455</td>\n",
       "      <td>0.047273</td>\n",
       "      <td>0.014545</td>\n",
       "      <td>0.021818</td>\n",
       "      <td>0.101818</td>\n",
       "      <td>0.087273</td>\n",
       "      <td>0.000000</td>\n",
       "      <td>0.014545</td>\n",
       "      <td>0.047273</td>\n",
       "      <td>0.083636</td>\n",
       "    </tr>\n",
       "    <tr>\n",
       "      <th>1</th>\n",
       "      <td>Aberconwy</td>\n",
       "      <td>0.124444</td>\n",
       "      <td>0.051111</td>\n",
       "      <td>0.106667</td>\n",
       "      <td>0.035556</td>\n",
       "      <td>0.024444</td>\n",
       "      <td>0.086667</td>\n",
       "      <td>0.024444</td>\n",
       "      <td>0.160000</td>\n",
       "      <td>0.033333</td>\n",
       "      <td>0.015556</td>\n",
       "      <td>0.026667</td>\n",
       "      <td>0.108889</td>\n",
       "      <td>0.066667</td>\n",
       "      <td>0.002222</td>\n",
       "      <td>0.011111</td>\n",
       "      <td>0.051111</td>\n",
       "      <td>0.071111</td>\n",
       "    </tr>\n",
       "    <tr>\n",
       "      <th>2</th>\n",
       "      <td>Aberdeen North</td>\n",
       "      <td>0.008421</td>\n",
       "      <td>0.048421</td>\n",
       "      <td>0.086316</td>\n",
       "      <td>0.016842</td>\n",
       "      <td>0.029474</td>\n",
       "      <td>0.082105</td>\n",
       "      <td>0.040000</td>\n",
       "      <td>0.080000</td>\n",
       "      <td>0.050526</td>\n",
       "      <td>0.008421</td>\n",
       "      <td>0.027368</td>\n",
       "      <td>0.309474</td>\n",
       "      <td>0.082105</td>\n",
       "      <td>0.000000</td>\n",
       "      <td>0.014737</td>\n",
       "      <td>0.046316</td>\n",
       "      <td>0.069474</td>\n",
       "    </tr>\n",
       "    <tr>\n",
       "      <th>3</th>\n",
       "      <td>Aberdeen South</td>\n",
       "      <td>0.011730</td>\n",
       "      <td>0.053763</td>\n",
       "      <td>0.064516</td>\n",
       "      <td>0.013685</td>\n",
       "      <td>0.026393</td>\n",
       "      <td>0.042033</td>\n",
       "      <td>0.021505</td>\n",
       "      <td>0.049853</td>\n",
       "      <td>0.046921</td>\n",
       "      <td>0.019550</td>\n",
       "      <td>0.043988</td>\n",
       "      <td>0.421310</td>\n",
       "      <td>0.096774</td>\n",
       "      <td>0.000000</td>\n",
       "      <td>0.009775</td>\n",
       "      <td>0.029326</td>\n",
       "      <td>0.048876</td>\n",
       "    </tr>\n",
       "    <tr>\n",
       "      <th>4</th>\n",
       "      <td>Airdrie and Shotts</td>\n",
       "      <td>0.034946</td>\n",
       "      <td>0.083333</td>\n",
       "      <td>0.155914</td>\n",
       "      <td>0.048387</td>\n",
       "      <td>0.034946</td>\n",
       "      <td>0.099462</td>\n",
       "      <td>0.088710</td>\n",
       "      <td>0.083333</td>\n",
       "      <td>0.037634</td>\n",
       "      <td>0.016129</td>\n",
       "      <td>0.021505</td>\n",
       "      <td>0.107527</td>\n",
       "      <td>0.077957</td>\n",
       "      <td>0.000000</td>\n",
       "      <td>0.005376</td>\n",
       "      <td>0.032258</td>\n",
       "      <td>0.072581</td>\n",
       "    </tr>\n",
       "  </tbody>\n",
       "</table>\n",
       "</div>"
      ],
      "text/plain": [
       "         Constituency     Cat_1     Cat_2     Cat_3     Cat_4     Cat_5  \\\n",
       "0            Aberavon  0.029091  0.090909  0.138182  0.040000  0.047273   \n",
       "1           Aberconwy  0.124444  0.051111  0.106667  0.035556  0.024444   \n",
       "2      Aberdeen North  0.008421  0.048421  0.086316  0.016842  0.029474   \n",
       "3      Aberdeen South  0.011730  0.053763  0.064516  0.013685  0.026393   \n",
       "4  Airdrie and Shotts  0.034946  0.083333  0.155914  0.048387  0.034946   \n",
       "\n",
       "      Cat_6     Cat_7     Cat_8     Cat_9    Cat_10    Cat_11    Cat_12  \\\n",
       "0  0.087273  0.043636  0.105455  0.047273  0.014545  0.021818  0.101818   \n",
       "1  0.086667  0.024444  0.160000  0.033333  0.015556  0.026667  0.108889   \n",
       "2  0.082105  0.040000  0.080000  0.050526  0.008421  0.027368  0.309474   \n",
       "3  0.042033  0.021505  0.049853  0.046921  0.019550  0.043988  0.421310   \n",
       "4  0.099462  0.088710  0.083333  0.037634  0.016129  0.021505  0.107527   \n",
       "\n",
       "     Cat_13    Cat_14    Cat_15    Cat_16    Cat_17  \n",
       "0  0.087273  0.000000  0.014545  0.047273  0.083636  \n",
       "1  0.066667  0.002222  0.011111  0.051111  0.071111  \n",
       "2  0.082105  0.000000  0.014737  0.046316  0.069474  \n",
       "3  0.096774  0.000000  0.009775  0.029326  0.048876  \n",
       "4  0.077957  0.000000  0.005376  0.032258  0.072581  "
      ]
     },
     "execution_count": 556,
     "metadata": {},
     "output_type": "execute_result"
    }
   ],
   "source": [
    "business_profile = business.copy()\n",
    "business_profile.drop('Businesses', axis=1, inplace=True)\n",
    "\n",
    "for col in business_profile.columns[1:]:\n",
    "    business_profile[col] = business_profile[col] / tot_business['Businesses']\n",
    "    profile = business_profile[col]\n",
    "\n",
    "business_profile.head()"
   ]
  },
  {
   "cell_type": "code",
   "execution_count": 557,
   "metadata": {},
   "outputs": [
    {
     "data": {
      "text/html": [
       "<div>\n",
       "<style scoped>\n",
       "    .dataframe tbody tr th:only-of-type {\n",
       "        vertical-align: middle;\n",
       "    }\n",
       "\n",
       "    .dataframe tbody tr th {\n",
       "        vertical-align: top;\n",
       "    }\n",
       "\n",
       "    .dataframe thead th {\n",
       "        text-align: right;\n",
       "    }\n",
       "</style>\n",
       "<table border=\"1\" class=\"dataframe\">\n",
       "  <thead>\n",
       "    <tr style=\"text-align: right;\">\n",
       "      <th></th>\n",
       "      <th>Business profile</th>\n",
       "    </tr>\n",
       "  </thead>\n",
       "  <tbody>\n",
       "    <tr>\n",
       "      <th>count</th>\n",
       "      <td>6.500000e+02</td>\n",
       "    </tr>\n",
       "    <tr>\n",
       "      <th>mean</th>\n",
       "      <td>4.187356e-18</td>\n",
       "    </tr>\n",
       "    <tr>\n",
       "      <th>std</th>\n",
       "      <td>9.169208e-02</td>\n",
       "    </tr>\n",
       "    <tr>\n",
       "      <th>min</th>\n",
       "      <td>-1.555307e-01</td>\n",
       "    </tr>\n",
       "    <tr>\n",
       "      <th>25%</th>\n",
       "      <td>-5.414906e-02</td>\n",
       "    </tr>\n",
       "    <tr>\n",
       "      <th>50%</th>\n",
       "      <td>-1.803216e-02</td>\n",
       "    </tr>\n",
       "    <tr>\n",
       "      <th>75%</th>\n",
       "      <td>2.413498e-02</td>\n",
       "    </tr>\n",
       "    <tr>\n",
       "      <th>max</th>\n",
       "      <td>4.117748e-01</td>\n",
       "    </tr>\n",
       "  </tbody>\n",
       "</table>\n",
       "</div>"
      ],
      "text/plain": [
       "       Business profile\n",
       "count      6.500000e+02\n",
       "mean       4.187356e-18\n",
       "std        9.169208e-02\n",
       "min       -1.555307e-01\n",
       "25%       -5.414906e-02\n",
       "50%       -1.803216e-02\n",
       "75%        2.413498e-02\n",
       "max        4.117748e-01"
      ]
     },
     "execution_count": 557,
     "metadata": {},
     "output_type": "execute_result"
    }
   ],
   "source": [
    "pca = PCA(n_components=1)\n",
    "business_profile_1d = pca.fit_transform(business_profile.drop(['Constituency'], axis=1).set_index(business_profile['Constituency']))\n",
    "\n",
    "business_profile['Business profile'] = business_profile_1d\n",
    "\n",
    "business_profile[['Constituency', 'Business profile']].describe()"
   ]
  },
  {
   "cell_type": "code",
   "execution_count": 558,
   "metadata": {
    "scrolled": false
   },
   "outputs": [
    {
     "data": {
      "text/html": [
       "<div>\n",
       "<style scoped>\n",
       "    .dataframe tbody tr th:only-of-type {\n",
       "        vertical-align: middle;\n",
       "    }\n",
       "\n",
       "    .dataframe tbody tr th {\n",
       "        vertical-align: top;\n",
       "    }\n",
       "\n",
       "    .dataframe thead th {\n",
       "        text-align: right;\n",
       "    }\n",
       "</style>\n",
       "<table border=\"1\" class=\"dataframe\">\n",
       "  <thead>\n",
       "    <tr style=\"text-align: right;\">\n",
       "      <th></th>\n",
       "      <th>Constituency</th>\n",
       "      <th>Business profile</th>\n",
       "    </tr>\n",
       "  </thead>\n",
       "  <tbody>\n",
       "    <tr>\n",
       "      <th>0</th>\n",
       "      <td>Aberavon</td>\n",
       "      <td>0.172734</td>\n",
       "    </tr>\n",
       "    <tr>\n",
       "      <th>1</th>\n",
       "      <td>Aberconwy</td>\n",
       "      <td>1.077172</td>\n",
       "    </tr>\n",
       "    <tr>\n",
       "      <th>2</th>\n",
       "      <td>Aberdeen North</td>\n",
       "      <td>-1.032843</td>\n",
       "    </tr>\n",
       "    <tr>\n",
       "      <th>3</th>\n",
       "      <td>Aberdeen South</td>\n",
       "      <td>-1.531703</td>\n",
       "    </tr>\n",
       "    <tr>\n",
       "      <th>4</th>\n",
       "      <td>Airdrie and Shotts</td>\n",
       "      <td>0.252810</td>\n",
       "    </tr>\n",
       "  </tbody>\n",
       "</table>\n",
       "</div>"
      ],
      "text/plain": [
       "         Constituency  Business profile\n",
       "0            Aberavon          0.172734\n",
       "1           Aberconwy          1.077172\n",
       "2      Aberdeen North         -1.032843\n",
       "3      Aberdeen South         -1.531703\n",
       "4  Airdrie and Shotts          0.252810"
      ]
     },
     "execution_count": 558,
     "metadata": {},
     "output_type": "execute_result"
    }
   ],
   "source": [
    "# normalise\n",
    "business_profile_norm = business_profile[['Constituency', 'Business profile']].copy()\n",
    "profile = business_profile_norm['Business profile']\n",
    "business_profile_norm['Business profile'] = (profile - profile.mean()) / profile.std()\n",
    "\n",
    "business_profile_norm.head()"
   ]
  },
  {
   "cell_type": "code",
   "execution_count": 559,
   "metadata": {
    "scrolled": false
   },
   "outputs": [
    {
     "data": {
      "image/png": "[encoded data removed]",
      "text/plain": [
       "<Figure size 432x288 with 1 Axes>"
      ]
     },
     "metadata": {
      "needs_background": "light"
     },
     "output_type": "display_data"
    }
   ],
   "source": [
    "sorted_business_profile = business_profile_norm.sort_values(by=['Business profile'], ascending=False)\n",
    "\n",
    "plt.figure(figsize=(6,4))\n",
    "plt.bar(x=sorted_business_profile['Constituency'], height=sorted_business_profile['Business profile'])\n",
    "plt.xlabel('Constituency', fontsize=12)\n",
    "plt.ylabel('Normalised business profile', fontsize=12)\n",
    "plt.title('business_profile', fontsize=15)\n",
    "plt.tick_params(bottom=False, labelbottom=False) # disable ticks and labels along the bottom edge\n",
    "plt.show()"
   ]
  },
  {
   "cell_type": "code",
   "execution_count": 560,
   "metadata": {
    "scrolled": false
   },
   "outputs": [
    {
     "data": {
      "image/png": "[encoded data removed]",
      "text/plain": [
       "<Figure size 432x432 with 1 Axes>"
      ]
     },
     "metadata": {},
     "output_type": "display_data"
    }
   ],
   "source": [
    "# plot the constituencies\n",
    "fig = plt.figure(figsize=(6,6))\n",
    "\n",
    "df = pd.merge(tot_pop_norm, avg_age_norm, on = ['Constituency'])\n",
    "df = pd.merge(df, area_norm, on = ['Constituency'])\n",
    "df = pd.merge(df, house_prices_norm, on = ['Constituency'])\n",
    "df = pd.merge(df, tot_business_norm, on = ['Constituency'])\n",
    "df = pd.merge(df, business_profile_norm, on = ['Constituency'])\n",
    "\n",
    "\n",
    "pca = PCA(n_components=2)\n",
    "df_2d = pca.fit_transform(df.drop('Constituency', axis=1).set_index(df['Constituency']))\n",
    "\n",
    "x = np.dot(df_2d, [1,0])\n",
    "y = np.dot(df_2d, [0,1])\n",
    "\n",
    "plt.scatter(x, y)\n",
    "plt.title('all variables except quals and amenity', fontsize=15)\n",
    "plt.xticks([])\n",
    "plt.yticks([])\n",
    "\n",
    "plt.show()"
   ]
  },
  {
   "cell_type": "markdown",
   "metadata": {},
   "source": [
    "## Qualifications"
   ]
  },
  {
   "cell_type": "markdown",
   "metadata": {},
   "source": [
    "We proceed with the qualifications variable in the same manner as the business profile variable."
   ]
  },
  {
   "cell_type": "code",
   "execution_count": 561,
   "metadata": {
    "scrolled": true
   },
   "outputs": [
    {
     "name": "stdout",
     "output_type": "stream",
     "text": [
      "(650, 6)\n"
     ]
    },
    {
     "data": {
      "text/html": [
       "<div>\n",
       "<style scoped>\n",
       "    .dataframe tbody tr th:only-of-type {\n",
       "        vertical-align: middle;\n",
       "    }\n",
       "\n",
       "    .dataframe tbody tr th {\n",
       "        vertical-align: top;\n",
       "    }\n",
       "\n",
       "    .dataframe thead th {\n",
       "        text-align: right;\n",
       "    }\n",
       "</style>\n",
       "<table border=\"1\" class=\"dataframe\">\n",
       "  <thead>\n",
       "    <tr style=\"text-align: right;\">\n",
       "      <th></th>\n",
       "      <th>Constituency</th>\n",
       "      <th>No quals</th>\n",
       "      <th>Level 1</th>\n",
       "      <th>Level 2</th>\n",
       "      <th>Level 3</th>\n",
       "      <th>Level 4</th>\n",
       "    </tr>\n",
       "  </thead>\n",
       "  <tbody>\n",
       "    <tr>\n",
       "      <th>0</th>\n",
       "      <td>Aldershot</td>\n",
       "      <td>18.5</td>\n",
       "      <td>16.4</td>\n",
       "      <td>17.1</td>\n",
       "      <td>12.5</td>\n",
       "      <td>25.0</td>\n",
       "    </tr>\n",
       "    <tr>\n",
       "      <th>1</th>\n",
       "      <td>Aldridge-Brownhills</td>\n",
       "      <td>29.5</td>\n",
       "      <td>14.0</td>\n",
       "      <td>16.0</td>\n",
       "      <td>11.7</td>\n",
       "      <td>20.5</td>\n",
       "    </tr>\n",
       "    <tr>\n",
       "      <th>2</th>\n",
       "      <td>Altrincham and Sale West</td>\n",
       "      <td>15.2</td>\n",
       "      <td>11.1</td>\n",
       "      <td>15.2</td>\n",
       "      <td>11.4</td>\n",
       "      <td>40.3</td>\n",
       "    </tr>\n",
       "    <tr>\n",
       "      <th>3</th>\n",
       "      <td>Amber Valley</td>\n",
       "      <td>29.7</td>\n",
       "      <td>14.8</td>\n",
       "      <td>15.9</td>\n",
       "      <td>12.0</td>\n",
       "      <td>18.7</td>\n",
       "    </tr>\n",
       "    <tr>\n",
       "      <th>4</th>\n",
       "      <td>Arundel and South Downs</td>\n",
       "      <td>17.9</td>\n",
       "      <td>12.5</td>\n",
       "      <td>17.2</td>\n",
       "      <td>12.0</td>\n",
       "      <td>33.0</td>\n",
       "    </tr>\n",
       "  </tbody>\n",
       "</table>\n",
       "</div>"
      ],
      "text/plain": [
       "               Constituency  No quals  Level 1  Level 2  Level 3  Level 4\n",
       "0                 Aldershot      18.5     16.4     17.1     12.5     25.0\n",
       "1       Aldridge-Brownhills      29.5     14.0     16.0     11.7     20.5\n",
       "2  Altrincham and Sale West      15.2     11.1     15.2     11.4     40.3\n",
       "3              Amber Valley      29.7     14.8     15.9     12.0     18.7\n",
       "4   Arundel and South Downs      17.9     12.5     17.2     12.0     33.0"
      ]
     },
     "execution_count": 561,
     "metadata": {},
     "output_type": "execute_result"
    }
   ],
   "source": [
    "def filter_constituency(x):\n",
    "    if x == x.upper():\n",
    "        return np.nan\n",
    "    else:\n",
    "        return x[10:].replace(':','').strip()\n",
    "\n",
    "with open('quals_2011.csv') as file:\n",
    "    quals = pd.read_csv(\n",
    "        file,\n",
    "        header = 0,\n",
    "        usecols = [0,1,2,3,5,6],\n",
    "        names = ['Code', 'No quals', 'Level 1', 'Level 2', 'Level 3', 'Level 4']\n",
    "    )\n",
    "\n",
    "quals = pd.merge(constituencies[['Constituency', 'Code']], quals, on = ['Code']).drop('Code', axis=1)\n",
    "quals.dropna()\n",
    "\n",
    "print(quals.shape)\n",
    "quals.head()"
   ]
  },
  {
   "cell_type": "code",
   "execution_count": 562,
   "metadata": {
    "scrolled": false
   },
   "outputs": [
    {
     "data": {
      "text/html": [
       "<div>\n",
       "<style scoped>\n",
       "    .dataframe tbody tr th:only-of-type {\n",
       "        vertical-align: middle;\n",
       "    }\n",
       "\n",
       "    .dataframe tbody tr th {\n",
       "        vertical-align: top;\n",
       "    }\n",
       "\n",
       "    .dataframe thead th {\n",
       "        text-align: right;\n",
       "    }\n",
       "</style>\n",
       "<table border=\"1\" class=\"dataframe\">\n",
       "  <thead>\n",
       "    <tr style=\"text-align: right;\">\n",
       "      <th></th>\n",
       "      <th>Qualifications</th>\n",
       "    </tr>\n",
       "  </thead>\n",
       "  <tbody>\n",
       "    <tr>\n",
       "      <th>count</th>\n",
       "      <td>6.500000e+02</td>\n",
       "    </tr>\n",
       "    <tr>\n",
       "      <th>mean</th>\n",
       "      <td>2.587332e-15</td>\n",
       "    </tr>\n",
       "    <tr>\n",
       "      <th>std</th>\n",
       "      <td>1.016467e+01</td>\n",
       "    </tr>\n",
       "    <tr>\n",
       "      <th>min</th>\n",
       "      <td>-2.343955e+01</td>\n",
       "    </tr>\n",
       "    <tr>\n",
       "      <th>25%</th>\n",
       "      <td>-7.508463e+00</td>\n",
       "    </tr>\n",
       "    <tr>\n",
       "      <th>50%</th>\n",
       "      <td>-9.680842e-01</td>\n",
       "    </tr>\n",
       "    <tr>\n",
       "      <th>75%</th>\n",
       "      <td>5.677017e+00</td>\n",
       "    </tr>\n",
       "    <tr>\n",
       "      <th>max</th>\n",
       "      <td>3.407730e+01</td>\n",
       "    </tr>\n",
       "  </tbody>\n",
       "</table>\n",
       "</div>"
      ],
      "text/plain": [
       "       Qualifications\n",
       "count    6.500000e+02\n",
       "mean     2.587332e-15\n",
       "std      1.016467e+01\n",
       "min     -2.343955e+01\n",
       "25%     -7.508463e+00\n",
       "50%     -9.680842e-01\n",
       "75%      5.677017e+00\n",
       "max      3.407730e+01"
      ]
     },
     "execution_count": 562,
     "metadata": {},
     "output_type": "execute_result"
    }
   ],
   "source": [
    "pca = PCA(n_components=1)\n",
    "quals_1d = pca.fit_transform(quals.drop('Constituency', axis=1).set_index(quals['Constituency']))\n",
    "quals['Qualifications'] = quals_1d\n",
    "\n",
    "quals[['Constituency', 'Qualifications']].describe()"
   ]
  },
  {
   "cell_type": "code",
   "execution_count": 563,
   "metadata": {},
   "outputs": [
    {
     "data": {
      "text/html": [
       "<div>\n",
       "<style scoped>\n",
       "    .dataframe tbody tr th:only-of-type {\n",
       "        vertical-align: middle;\n",
       "    }\n",
       "\n",
       "    .dataframe tbody tr th {\n",
       "        vertical-align: top;\n",
       "    }\n",
       "\n",
       "    .dataframe thead th {\n",
       "        text-align: right;\n",
       "    }\n",
       "</style>\n",
       "<table border=\"1\" class=\"dataframe\">\n",
       "  <thead>\n",
       "    <tr style=\"text-align: right;\">\n",
       "      <th></th>\n",
       "      <th>Constituency</th>\n",
       "      <th>Qualifications</th>\n",
       "    </tr>\n",
       "  </thead>\n",
       "  <tbody>\n",
       "    <tr>\n",
       "      <th>0</th>\n",
       "      <td>Aldershot</td>\n",
       "      <td>0.070576</td>\n",
       "    </tr>\n",
       "    <tr>\n",
       "      <th>1</th>\n",
       "      <td>Aldridge-Brownhills</td>\n",
       "      <td>-0.813235</td>\n",
       "    </tr>\n",
       "    <tr>\n",
       "      <th>2</th>\n",
       "      <td>Altrincham and Sale West</td>\n",
       "      <td>1.584553</td>\n",
       "    </tr>\n",
       "    <tr>\n",
       "      <th>3</th>\n",
       "      <td>Amber Valley</td>\n",
       "      <td>-0.981112</td>\n",
       "    </tr>\n",
       "    <tr>\n",
       "      <th>4</th>\n",
       "      <td>Arundel and South Downs</td>\n",
       "      <td>0.815145</td>\n",
       "    </tr>\n",
       "  </tbody>\n",
       "</table>\n",
       "</div>"
      ],
      "text/plain": [
       "               Constituency  Qualifications\n",
       "0                 Aldershot        0.070576\n",
       "1       Aldridge-Brownhills       -0.813235\n",
       "2  Altrincham and Sale West        1.584553\n",
       "3              Amber Valley       -0.981112\n",
       "4   Arundel and South Downs        0.815145"
      ]
     },
     "execution_count": 563,
     "metadata": {},
     "output_type": "execute_result"
    }
   ],
   "source": [
    "# normalise\n",
    "quals_norm = quals[['Constituency', 'Qualifications']].copy()\n",
    "quals_series = quals['Qualifications']\n",
    "quals_norm['Qualifications'] = (quals_series - quals_series.mean()) / quals_series.std()\n",
    "\n",
    "quals_norm.head()"
   ]
  },
  {
   "cell_type": "code",
   "execution_count": 564,
   "metadata": {
    "scrolled": false
   },
   "outputs": [
    {
     "data": {
      "image/png": "[encoded data removed]",
      "text/plain": [
       "<Figure size 432x288 with 1 Axes>"
      ]
     },
     "metadata": {
      "needs_background": "light"
     },
     "output_type": "display_data"
    }
   ],
   "source": [
    "sorted_quals = quals_norm.sort_values(by=['Qualifications'], ascending=False)\n",
    "\n",
    "plt.figure(figsize=(6,4))\n",
    "plt.bar(x=sorted_quals['Constituency'], height=sorted_quals['Qualifications'])\n",
    "plt.xlabel('Constituency', fontsize=12)\n",
    "plt.ylabel('Normalised qualifications', fontsize=12)\n",
    "plt.title('quals', fontsize=15)\n",
    "plt.tick_params(bottom=False, labelbottom=False) # disable ticks and labels along the bottom edge\n",
    "plt.show()"
   ]
  },
  {
   "cell_type": "code",
   "execution_count": 565,
   "metadata": {
    "scrolled": false
   },
   "outputs": [
    {
     "data": {
      "image/png": "[encoded data removed]",
      "text/plain": [
       "<Figure size 432x432 with 1 Axes>"
      ]
     },
     "metadata": {},
     "output_type": "display_data"
    }
   ],
   "source": [
    "# plot the constituencies\n",
    "fig = plt.figure(figsize=(6,6))\n",
    "\n",
    "df = pd.merge(tot_pop_norm, avg_age_norm, on = ['Constituency'])\n",
    "df = pd.merge(df, area_norm, on = ['Constituency'])\n",
    "df = pd.merge(df, house_prices_norm, on = ['Constituency'])\n",
    "df = pd.merge(df, tot_business_norm, on = ['Constituency'])\n",
    "df = pd.merge(df, business_profile_norm, on = ['Constituency'])\n",
    "df = pd.merge(df, quals_norm, on = ['Constituency'])\n",
    "\n",
    "\n",
    "pca = PCA(n_components=2)\n",
    "df_2d = pca.fit_transform(df.drop('Constituency', axis=1).set_index(df['Constituency']))\n",
    "\n",
    "x = np.dot(df_2d, [1,0])\n",
    "y = np.dot(df_2d, [0,1])\n",
    "\n",
    "plt.scatter(x, y)\n",
    "plt.title('all variables except amenity', fontsize=15)\n",
    "plt.xticks([])\n",
    "plt.yticks([])\n",
    "\n",
    "plt.show()"
   ]
  },
  {
   "cell_type": "markdown",
   "metadata": {},
   "source": [
    "## Amenity data from Foursquare"
   ]
  },
  {
   "cell_type": "markdown",
   "metadata": {},
   "source": [
    "As for the amenity data, we are not simply loading in a data set as before. We will be using the Foursquare API to gather up information about nearby amenities, and store the amenity categories of these."
   ]
  },
  {
   "cell_type": "markdown",
   "metadata": {},
   "source": [
    "### Fetching data from the Foursquare API"
   ]
  },
  {
   "cell_type": "markdown",
   "metadata": {},
   "source": [
    "The following is my personal client id and secret, meaning that it can only be used a limited amount of times a day (around 5,000 calls per day). The next two functions are used to construct API calls given location coordinates and gathering data about the nearby amenities, respectively."
   ]
  },
  {
   "cell_type": "code",
   "execution_count": 566,
   "metadata": {},
   "outputs": [],
   "source": [
    "CLIENT_ID = '1CNA4A03C1G0DWB3U1MQLXRIX2L4HNONAH3JPPIPE3DW4I12' # Foursquare ID\n",
    "CLIENT_SECRET = '5WQAJ1DW11TJ3O4HBCTSD1OPSXZSFU331BJ1EQ4F2HRQVN5P' # Foursquare Secret\n",
    "VERSION = '20190428' # Foursquare API version"
   ]
  },
  {
   "cell_type": "code",
   "execution_count": 567,
   "metadata": {},
   "outputs": [],
   "source": [
    "def get_url(lat, lng, radius=250, limit=100):\n",
    "    url = f\"https://api.foursquare.com/v2/venues/explore?\" \\\n",
    "            f\"client_id={CLIENT_ID}&client_secret={CLIENT_SECRET}&\" \\\n",
    "            f\"v={VERSION}&ll={lat},{lng}&radius={radius}\"\n",
    "    if limit == None:\n",
    "            return url\n",
    "    else:\n",
    "        return f\"{url}&limit={limit}\"\n",
    "\n",
    "def get_amenities(names, latitudes, longitudes, radius=500, limit=100):\n",
    "    \n",
    "    amenities_arr = np.asarray([])\n",
    "    names_arr = np.asarray([])\n",
    "    i = 0\n",
    "    for name, lat, lng in zip(names, latitudes, longitudes):\n",
    "        # create the API request URL\n",
    "        url = get_url(lat=lat, lng=lng, radius=radius, limit=limit)\n",
    "        \n",
    "        try:\n",
    "            results = requests.get(url).json()[\"response\"]['groups'][0]['items']\n",
    "        except:\n",
    "            continue\n",
    "        \n",
    "        # return only relevant information for each nearby amenity\n",
    "        names_arr = np.append(names_arr, np.asarray([name] * len(results)))\n",
    "        amenities_arr = np.append(amenities_arr, [a['venue']['categories'][0]['name'] for a in results])\n",
    "        \n",
    "        i += 1        \n",
    "        print(f\"Fetched amenities in {i} constituencies...\", end = '\\r')\n",
    "        \n",
    "    nearby_amenities = pd.DataFrame({'Constituency' : names_arr, 'Amenity Category' : amenities_arr})\n",
    "    \n",
    "    return(nearby_amenities)"
   ]
  },
  {
   "cell_type": "markdown",
   "metadata": {},
   "source": [
    "Next step is to get the desired amenities in all of our constituencies. Calling the API takes a few minutes, and can be done by running the following code. Alternatively, I have downloaded this already and stored it in the amenities.pickle file, which you downloaded in the beginning, so you can simply load this in. Up to you."
   ]
  },
  {
   "cell_type": "raw",
   "metadata": {
    "scrolled": true
   },
   "source": [
    "amenities = get_amenities(\n",
    "                names = iter(constituencies['Constituency']),\n",
    "                latitudes = iter(constituencies['Latitude']),\n",
    "                longitudes = iter(constituencies['Longitude']),\n",
    "                radius = 5000,\n",
    "                limit = 100\n",
    "                )\n",
    "\n",
    "# save dataframe\n",
    "with open(f\"amenities.pickle\",\"wb\") as pickle_out:\n",
    "    pickle.dump(amenities, pickle_out)\n",
    "\n",
    "print(\"All done! Amenities loaded into amenities.pickle.\")"
   ]
  },
  {
   "cell_type": "code",
   "execution_count": 568,
   "metadata": {},
   "outputs": [
    {
     "name": "stdout",
     "output_type": "stream",
     "text": [
      "Found 40096 amenities spread among 430 unique categories. Here are a few of them:\n"
     ]
    },
    {
     "data": {
      "text/html": [
       "<div>\n",
       "<style scoped>\n",
       "    .dataframe tbody tr th:only-of-type {\n",
       "        vertical-align: middle;\n",
       "    }\n",
       "\n",
       "    .dataframe tbody tr th {\n",
       "        vertical-align: top;\n",
       "    }\n",
       "\n",
       "    .dataframe thead th {\n",
       "        text-align: right;\n",
       "    }\n",
       "</style>\n",
       "<table border=\"1\" class=\"dataframe\">\n",
       "  <thead>\n",
       "    <tr style=\"text-align: right;\">\n",
       "      <th></th>\n",
       "      <th>Constituency</th>\n",
       "      <th>Amenity Category</th>\n",
       "    </tr>\n",
       "  </thead>\n",
       "  <tbody>\n",
       "    <tr>\n",
       "      <th>0</th>\n",
       "      <td>Aldershot</td>\n",
       "      <td>Hotel</td>\n",
       "    </tr>\n",
       "    <tr>\n",
       "      <th>1</th>\n",
       "      <td>Aldershot</td>\n",
       "      <td>Airport</td>\n",
       "    </tr>\n",
       "    <tr>\n",
       "      <th>2</th>\n",
       "      <td>Aldershot</td>\n",
       "      <td>Café</td>\n",
       "    </tr>\n",
       "    <tr>\n",
       "      <th>3</th>\n",
       "      <td>Aldershot</td>\n",
       "      <td>Warehouse Store</td>\n",
       "    </tr>\n",
       "    <tr>\n",
       "      <th>4</th>\n",
       "      <td>Aldershot</td>\n",
       "      <td>Hotel Bar</td>\n",
       "    </tr>\n",
       "  </tbody>\n",
       "</table>\n",
       "</div>"
      ],
      "text/plain": [
       "  Constituency Amenity Category\n",
       "0    Aldershot            Hotel\n",
       "1    Aldershot          Airport\n",
       "2    Aldershot             Café\n",
       "3    Aldershot  Warehouse Store\n",
       "4    Aldershot        Hotel Bar"
      ]
     },
     "execution_count": 568,
     "metadata": {},
     "output_type": "execute_result"
    }
   ],
   "source": [
    "# load dataframe    \n",
    "with open(f\"amenities.pickle\", \"rb\") as pickle_in:\n",
    "    amenities = pickle.load(pickle_in)\n",
    "\n",
    "# find number of unique categories\n",
    "unique_cats = amenities['Amenity Category'].unique()\n",
    "\n",
    "print(f\"Found {amenities.shape[0]} amenities spread among {len(unique_cats)} unique categories. Here are a few of them:\")\n",
    "amenities.head()"
   ]
  },
  {
   "cell_type": "markdown",
   "metadata": {},
   "source": [
    "### Cleaning amenity data"
   ]
  },
  {
   "cell_type": "markdown",
   "metadata": {},
   "source": [
    "Now, we do a one hot encoding of our amenitiy categories and find the frequency of every amenity by constituency."
   ]
  },
  {
   "cell_type": "code",
   "execution_count": 569,
   "metadata": {
    "scrolled": true
   },
   "outputs": [
    {
     "data": {
      "text/html": [
       "<div>\n",
       "<style scoped>\n",
       "    .dataframe tbody tr th:only-of-type {\n",
       "        vertical-align: middle;\n",
       "    }\n",
       "\n",
       "    .dataframe tbody tr th {\n",
       "        vertical-align: top;\n",
       "    }\n",
       "\n",
       "    .dataframe thead th {\n",
       "        text-align: right;\n",
       "    }\n",
       "</style>\n",
       "<table border=\"1\" class=\"dataframe\">\n",
       "  <thead>\n",
       "    <tr style=\"text-align: right;\">\n",
       "      <th></th>\n",
       "      <th>Constituency</th>\n",
       "      <th>ATM</th>\n",
       "      <th>Accessories Store</th>\n",
       "      <th>Afghan Restaurant</th>\n",
       "      <th>African Restaurant</th>\n",
       "      <th>Airport</th>\n",
       "      <th>Airport Food Court</th>\n",
       "      <th>Airport Lounge</th>\n",
       "      <th>Airport Service</th>\n",
       "      <th>Airport Terminal</th>\n",
       "      <th>...</th>\n",
       "      <th>Whisky Bar</th>\n",
       "      <th>Windmill</th>\n",
       "      <th>Wine Bar</th>\n",
       "      <th>Wine Shop</th>\n",
       "      <th>Wings Joint</th>\n",
       "      <th>Women's Store</th>\n",
       "      <th>Yakitori Restaurant</th>\n",
       "      <th>Yoga Studio</th>\n",
       "      <th>Zoo</th>\n",
       "      <th>Zoo Exhibit</th>\n",
       "    </tr>\n",
       "  </thead>\n",
       "  <tbody>\n",
       "    <tr>\n",
       "      <th>0</th>\n",
       "      <td>Aldershot</td>\n",
       "      <td>0</td>\n",
       "      <td>0</td>\n",
       "      <td>0</td>\n",
       "      <td>0</td>\n",
       "      <td>0</td>\n",
       "      <td>0</td>\n",
       "      <td>0</td>\n",
       "      <td>0</td>\n",
       "      <td>0</td>\n",
       "      <td>...</td>\n",
       "      <td>0</td>\n",
       "      <td>0</td>\n",
       "      <td>0</td>\n",
       "      <td>0</td>\n",
       "      <td>0</td>\n",
       "      <td>0</td>\n",
       "      <td>0</td>\n",
       "      <td>0</td>\n",
       "      <td>0</td>\n",
       "      <td>0</td>\n",
       "    </tr>\n",
       "    <tr>\n",
       "      <th>1</th>\n",
       "      <td>Aldershot</td>\n",
       "      <td>0</td>\n",
       "      <td>0</td>\n",
       "      <td>0</td>\n",
       "      <td>0</td>\n",
       "      <td>1</td>\n",
       "      <td>0</td>\n",
       "      <td>0</td>\n",
       "      <td>0</td>\n",
       "      <td>0</td>\n",
       "      <td>...</td>\n",
       "      <td>0</td>\n",
       "      <td>0</td>\n",
       "      <td>0</td>\n",
       "      <td>0</td>\n",
       "      <td>0</td>\n",
       "      <td>0</td>\n",
       "      <td>0</td>\n",
       "      <td>0</td>\n",
       "      <td>0</td>\n",
       "      <td>0</td>\n",
       "    </tr>\n",
       "    <tr>\n",
       "      <th>2</th>\n",
       "      <td>Aldershot</td>\n",
       "      <td>0</td>\n",
       "      <td>0</td>\n",
       "      <td>0</td>\n",
       "      <td>0</td>\n",
       "      <td>0</td>\n",
       "      <td>0</td>\n",
       "      <td>0</td>\n",
       "      <td>0</td>\n",
       "      <td>0</td>\n",
       "      <td>...</td>\n",
       "      <td>0</td>\n",
       "      <td>0</td>\n",
       "      <td>0</td>\n",
       "      <td>0</td>\n",
       "      <td>0</td>\n",
       "      <td>0</td>\n",
       "      <td>0</td>\n",
       "      <td>0</td>\n",
       "      <td>0</td>\n",
       "      <td>0</td>\n",
       "    </tr>\n",
       "    <tr>\n",
       "      <th>3</th>\n",
       "      <td>Aldershot</td>\n",
       "      <td>0</td>\n",
       "      <td>0</td>\n",
       "      <td>0</td>\n",
       "      <td>0</td>\n",
       "      <td>0</td>\n",
       "      <td>0</td>\n",
       "      <td>0</td>\n",
       "      <td>0</td>\n",
       "      <td>0</td>\n",
       "      <td>...</td>\n",
       "      <td>0</td>\n",
       "      <td>0</td>\n",
       "      <td>0</td>\n",
       "      <td>0</td>\n",
       "      <td>0</td>\n",
       "      <td>0</td>\n",
       "      <td>0</td>\n",
       "      <td>0</td>\n",
       "      <td>0</td>\n",
       "      <td>0</td>\n",
       "    </tr>\n",
       "    <tr>\n",
       "      <th>4</th>\n",
       "      <td>Aldershot</td>\n",
       "      <td>0</td>\n",
       "      <td>0</td>\n",
       "      <td>0</td>\n",
       "      <td>0</td>\n",
       "      <td>0</td>\n",
       "      <td>0</td>\n",
       "      <td>0</td>\n",
       "      <td>0</td>\n",
       "      <td>0</td>\n",
       "      <td>...</td>\n",
       "      <td>0</td>\n",
       "      <td>0</td>\n",
       "      <td>0</td>\n",
       "      <td>0</td>\n",
       "      <td>0</td>\n",
       "      <td>0</td>\n",
       "      <td>0</td>\n",
       "      <td>0</td>\n",
       "      <td>0</td>\n",
       "      <td>0</td>\n",
       "    </tr>\n",
       "  </tbody>\n",
       "</table>\n",
       "<p>5 rows × 431 columns</p>\n",
       "</div>"
      ],
      "text/plain": [
       "  Constituency  ATM  Accessories Store  Afghan Restaurant  African Restaurant  \\\n",
       "0    Aldershot    0                  0                  0                   0   \n",
       "1    Aldershot    0                  0                  0                   0   \n",
       "2    Aldershot    0                  0                  0                   0   \n",
       "3    Aldershot    0                  0                  0                   0   \n",
       "4    Aldershot    0                  0                  0                   0   \n",
       "\n",
       "   Airport  Airport Food Court  Airport Lounge  Airport Service  \\\n",
       "0        0                   0               0                0   \n",
       "1        1                   0               0                0   \n",
       "2        0                   0               0                0   \n",
       "3        0                   0               0                0   \n",
       "4        0                   0               0                0   \n",
       "\n",
       "   Airport Terminal  ...  Whisky Bar  Windmill  Wine Bar  Wine Shop  \\\n",
       "0                 0  ...           0         0         0          0   \n",
       "1                 0  ...           0         0         0          0   \n",
       "2                 0  ...           0         0         0          0   \n",
       "3                 0  ...           0         0         0          0   \n",
       "4                 0  ...           0         0         0          0   \n",
       "\n",
       "   Wings Joint  Women's Store  Yakitori Restaurant  Yoga Studio  Zoo  \\\n",
       "0            0              0                    0            0    0   \n",
       "1            0              0                    0            0    0   \n",
       "2            0              0                    0            0    0   \n",
       "3            0              0                    0            0    0   \n",
       "4            0              0                    0            0    0   \n",
       "\n",
       "   Zoo Exhibit  \n",
       "0            0  \n",
       "1            0  \n",
       "2            0  \n",
       "3            0  \n",
       "4            0  \n",
       "\n",
       "[5 rows x 431 columns]"
      ]
     },
     "execution_count": 569,
     "metadata": {},
     "output_type": "execute_result"
    }
   ],
   "source": [
    "# one hot encoding\n",
    "amenities_onehot = pd.get_dummies(amenities['Amenity Category'], prefix=\"\", prefix_sep=\"\")\n",
    "\n",
    "# add neighbourhood column back to dataframe\n",
    "amenities_onehot['Constituency'] = amenities['Constituency'] \n",
    "\n",
    "# move neighbourhood column to the first column\n",
    "fixed_columns = [amenities_onehot.columns[-1]] + list(amenities_onehot.columns[:-1])\n",
    "amenities_onehot = amenities_onehot[fixed_columns]\n",
    "\n",
    "amenities_onehot.head()"
   ]
  },
  {
   "cell_type": "code",
   "execution_count": 570,
   "metadata": {
    "scrolled": true
   },
   "outputs": [
    {
     "name": "stdout",
     "output_type": "stream",
     "text": [
      "(649, 431)\n"
     ]
    },
    {
     "data": {
      "text/html": [
       "<div>\n",
       "<style scoped>\n",
       "    .dataframe tbody tr th:only-of-type {\n",
       "        vertical-align: middle;\n",
       "    }\n",
       "\n",
       "    .dataframe tbody tr th {\n",
       "        vertical-align: top;\n",
       "    }\n",
       "\n",
       "    .dataframe thead th {\n",
       "        text-align: right;\n",
       "    }\n",
       "</style>\n",
       "<table border=\"1\" class=\"dataframe\">\n",
       "  <thead>\n",
       "    <tr style=\"text-align: right;\">\n",
       "      <th></th>\n",
       "      <th>Constituency</th>\n",
       "      <th>ATM</th>\n",
       "      <th>Accessories Store</th>\n",
       "      <th>Afghan Restaurant</th>\n",
       "      <th>African Restaurant</th>\n",
       "      <th>Airport</th>\n",
       "      <th>Airport Food Court</th>\n",
       "      <th>Airport Lounge</th>\n",
       "      <th>Airport Service</th>\n",
       "      <th>Airport Terminal</th>\n",
       "      <th>...</th>\n",
       "      <th>Whisky Bar</th>\n",
       "      <th>Windmill</th>\n",
       "      <th>Wine Bar</th>\n",
       "      <th>Wine Shop</th>\n",
       "      <th>Wings Joint</th>\n",
       "      <th>Women's Store</th>\n",
       "      <th>Yakitori Restaurant</th>\n",
       "      <th>Yoga Studio</th>\n",
       "      <th>Zoo</th>\n",
       "      <th>Zoo Exhibit</th>\n",
       "    </tr>\n",
       "  </thead>\n",
       "  <tbody>\n",
       "    <tr>\n",
       "      <th>0</th>\n",
       "      <td>Aberavon</td>\n",
       "      <td>0.0</td>\n",
       "      <td>0.0</td>\n",
       "      <td>0.0</td>\n",
       "      <td>0.0</td>\n",
       "      <td>0.0</td>\n",
       "      <td>0.0</td>\n",
       "      <td>0.0</td>\n",
       "      <td>0.0</td>\n",
       "      <td>0.0</td>\n",
       "      <td>...</td>\n",
       "      <td>0.00</td>\n",
       "      <td>0.0</td>\n",
       "      <td>0.0</td>\n",
       "      <td>0.0</td>\n",
       "      <td>0.0</td>\n",
       "      <td>0.0</td>\n",
       "      <td>0.0</td>\n",
       "      <td>0.0</td>\n",
       "      <td>0.0</td>\n",
       "      <td>0.0</td>\n",
       "    </tr>\n",
       "    <tr>\n",
       "      <th>1</th>\n",
       "      <td>Aberconwy</td>\n",
       "      <td>0.0</td>\n",
       "      <td>0.0</td>\n",
       "      <td>0.0</td>\n",
       "      <td>0.0</td>\n",
       "      <td>0.0</td>\n",
       "      <td>0.0</td>\n",
       "      <td>0.0</td>\n",
       "      <td>0.0</td>\n",
       "      <td>0.0</td>\n",
       "      <td>...</td>\n",
       "      <td>0.00</td>\n",
       "      <td>0.0</td>\n",
       "      <td>0.0</td>\n",
       "      <td>0.0</td>\n",
       "      <td>0.0</td>\n",
       "      <td>0.0</td>\n",
       "      <td>0.0</td>\n",
       "      <td>0.0</td>\n",
       "      <td>0.0</td>\n",
       "      <td>0.0</td>\n",
       "    </tr>\n",
       "    <tr>\n",
       "      <th>2</th>\n",
       "      <td>Aberdeen North</td>\n",
       "      <td>0.0</td>\n",
       "      <td>0.0</td>\n",
       "      <td>0.0</td>\n",
       "      <td>0.0</td>\n",
       "      <td>0.0</td>\n",
       "      <td>0.0</td>\n",
       "      <td>0.0</td>\n",
       "      <td>0.0</td>\n",
       "      <td>0.0</td>\n",
       "      <td>...</td>\n",
       "      <td>0.01</td>\n",
       "      <td>0.0</td>\n",
       "      <td>0.0</td>\n",
       "      <td>0.0</td>\n",
       "      <td>0.0</td>\n",
       "      <td>0.0</td>\n",
       "      <td>0.0</td>\n",
       "      <td>0.0</td>\n",
       "      <td>0.0</td>\n",
       "      <td>0.0</td>\n",
       "    </tr>\n",
       "    <tr>\n",
       "      <th>3</th>\n",
       "      <td>Aberdeen South</td>\n",
       "      <td>0.0</td>\n",
       "      <td>0.0</td>\n",
       "      <td>0.0</td>\n",
       "      <td>0.0</td>\n",
       "      <td>0.0</td>\n",
       "      <td>0.0</td>\n",
       "      <td>0.0</td>\n",
       "      <td>0.0</td>\n",
       "      <td>0.0</td>\n",
       "      <td>...</td>\n",
       "      <td>0.01</td>\n",
       "      <td>0.0</td>\n",
       "      <td>0.0</td>\n",
       "      <td>0.0</td>\n",
       "      <td>0.0</td>\n",
       "      <td>0.0</td>\n",
       "      <td>0.0</td>\n",
       "      <td>0.0</td>\n",
       "      <td>0.0</td>\n",
       "      <td>0.0</td>\n",
       "    </tr>\n",
       "    <tr>\n",
       "      <th>4</th>\n",
       "      <td>Airdrie and Shotts</td>\n",
       "      <td>0.0</td>\n",
       "      <td>0.0</td>\n",
       "      <td>0.0</td>\n",
       "      <td>0.0</td>\n",
       "      <td>0.0</td>\n",
       "      <td>0.0</td>\n",
       "      <td>0.0</td>\n",
       "      <td>0.0</td>\n",
       "      <td>0.0</td>\n",
       "      <td>...</td>\n",
       "      <td>0.00</td>\n",
       "      <td>0.0</td>\n",
       "      <td>0.0</td>\n",
       "      <td>0.0</td>\n",
       "      <td>0.0</td>\n",
       "      <td>0.0</td>\n",
       "      <td>0.0</td>\n",
       "      <td>0.0</td>\n",
       "      <td>0.0</td>\n",
       "      <td>0.0</td>\n",
       "    </tr>\n",
       "  </tbody>\n",
       "</table>\n",
       "<p>5 rows × 431 columns</p>\n",
       "</div>"
      ],
      "text/plain": [
       "         Constituency  ATM  Accessories Store  Afghan Restaurant  \\\n",
       "0            Aberavon  0.0                0.0                0.0   \n",
       "1           Aberconwy  0.0                0.0                0.0   \n",
       "2      Aberdeen North  0.0                0.0                0.0   \n",
       "3      Aberdeen South  0.0                0.0                0.0   \n",
       "4  Airdrie and Shotts  0.0                0.0                0.0   \n",
       "\n",
       "   African Restaurant  Airport  Airport Food Court  Airport Lounge  \\\n",
       "0                 0.0      0.0                 0.0             0.0   \n",
       "1                 0.0      0.0                 0.0             0.0   \n",
       "2                 0.0      0.0                 0.0             0.0   \n",
       "3                 0.0      0.0                 0.0             0.0   \n",
       "4                 0.0      0.0                 0.0             0.0   \n",
       "\n",
       "   Airport Service  Airport Terminal  ...  Whisky Bar  Windmill  Wine Bar  \\\n",
       "0              0.0               0.0  ...        0.00       0.0       0.0   \n",
       "1              0.0               0.0  ...        0.00       0.0       0.0   \n",
       "2              0.0               0.0  ...        0.01       0.0       0.0   \n",
       "3              0.0               0.0  ...        0.01       0.0       0.0   \n",
       "4              0.0               0.0  ...        0.00       0.0       0.0   \n",
       "\n",
       "   Wine Shop  Wings Joint  Women's Store  Yakitori Restaurant  Yoga Studio  \\\n",
       "0        0.0          0.0            0.0                  0.0          0.0   \n",
       "1        0.0          0.0            0.0                  0.0          0.0   \n",
       "2        0.0          0.0            0.0                  0.0          0.0   \n",
       "3        0.0          0.0            0.0                  0.0          0.0   \n",
       "4        0.0          0.0            0.0                  0.0          0.0   \n",
       "\n",
       "   Zoo  Zoo Exhibit  \n",
       "0  0.0          0.0  \n",
       "1  0.0          0.0  \n",
       "2  0.0          0.0  \n",
       "3  0.0          0.0  \n",
       "4  0.0          0.0  \n",
       "\n",
       "[5 rows x 431 columns]"
      ]
     },
     "execution_count": 570,
     "metadata": {},
     "output_type": "execute_result"
    }
   ],
   "source": [
    "amenities_mean = amenities_onehot.groupby('Constituency', as_index=False).mean()\n",
    "print(amenities_mean.shape)\n",
    "amenities_mean.head()"
   ]
  },
  {
   "cell_type": "markdown",
   "metadata": {},
   "source": [
    "In the same manner as the business profile and the qualifications variables, we perform a Principal Component Analysis on the amenity categories, to end up with a one-dimensional variable."
   ]
  },
  {
   "cell_type": "code",
   "execution_count": 571,
   "metadata": {},
   "outputs": [
    {
     "data": {
      "text/html": [
       "<div>\n",
       "<style scoped>\n",
       "    .dataframe tbody tr th:only-of-type {\n",
       "        vertical-align: middle;\n",
       "    }\n",
       "\n",
       "    .dataframe tbody tr th {\n",
       "        vertical-align: top;\n",
       "    }\n",
       "\n",
       "    .dataframe thead th {\n",
       "        text-align: right;\n",
       "    }\n",
       "</style>\n",
       "<table border=\"1\" class=\"dataframe\">\n",
       "  <thead>\n",
       "    <tr style=\"text-align: right;\">\n",
       "      <th></th>\n",
       "      <th>Amenities</th>\n",
       "    </tr>\n",
       "  </thead>\n",
       "  <tbody>\n",
       "    <tr>\n",
       "      <th>count</th>\n",
       "      <td>6.490000e+02</td>\n",
       "    </tr>\n",
       "    <tr>\n",
       "      <th>mean</th>\n",
       "      <td>3.624476e-18</td>\n",
       "    </tr>\n",
       "    <tr>\n",
       "      <th>std</th>\n",
       "      <td>9.364168e-02</td>\n",
       "    </tr>\n",
       "    <tr>\n",
       "      <th>min</th>\n",
       "      <td>-1.583099e-01</td>\n",
       "    </tr>\n",
       "    <tr>\n",
       "      <th>25%</th>\n",
       "      <td>-5.563816e-02</td>\n",
       "    </tr>\n",
       "    <tr>\n",
       "      <th>50%</th>\n",
       "      <td>-8.050333e-03</td>\n",
       "    </tr>\n",
       "    <tr>\n",
       "      <th>75%</th>\n",
       "      <td>3.239887e-02</td>\n",
       "    </tr>\n",
       "    <tr>\n",
       "      <th>max</th>\n",
       "      <td>6.472416e-01</td>\n",
       "    </tr>\n",
       "  </tbody>\n",
       "</table>\n",
       "</div>"
      ],
      "text/plain": [
       "          Amenities\n",
       "count  6.490000e+02\n",
       "mean   3.624476e-18\n",
       "std    9.364168e-02\n",
       "min   -1.583099e-01\n",
       "25%   -5.563816e-02\n",
       "50%   -8.050333e-03\n",
       "75%    3.239887e-02\n",
       "max    6.472416e-01"
      ]
     },
     "execution_count": 571,
     "metadata": {},
     "output_type": "execute_result"
    }
   ],
   "source": [
    "pca = PCA(n_components=1)\n",
    "amenities_1d = pca.fit_transform(amenities_mean.drop(['Constituency'], axis=1).set_index(amenities_mean['Constituency']))\n",
    "amenities_mean['Amenities'] = amenities_1d\n",
    "\n",
    "amenities_mean[['Constituency', 'Amenities']].describe()"
   ]
  },
  {
   "cell_type": "code",
   "execution_count": 572,
   "metadata": {},
   "outputs": [
    {
     "data": {
      "text/html": [
       "<div>\n",
       "<style scoped>\n",
       "    .dataframe tbody tr th:only-of-type {\n",
       "        vertical-align: middle;\n",
       "    }\n",
       "\n",
       "    .dataframe tbody tr th {\n",
       "        vertical-align: top;\n",
       "    }\n",
       "\n",
       "    .dataframe thead th {\n",
       "        text-align: right;\n",
       "    }\n",
       "</style>\n",
       "<table border=\"1\" class=\"dataframe\">\n",
       "  <thead>\n",
       "    <tr style=\"text-align: right;\">\n",
       "      <th></th>\n",
       "      <th>Constituency</th>\n",
       "      <th>Amenities</th>\n",
       "    </tr>\n",
       "  </thead>\n",
       "  <tbody>\n",
       "    <tr>\n",
       "      <th>0</th>\n",
       "      <td>Aberavon</td>\n",
       "      <td>-0.215277</td>\n",
       "    </tr>\n",
       "    <tr>\n",
       "      <th>1</th>\n",
       "      <td>Aberconwy</td>\n",
       "      <td>0.283899</td>\n",
       "    </tr>\n",
       "    <tr>\n",
       "      <th>2</th>\n",
       "      <td>Aberdeen North</td>\n",
       "      <td>-0.779669</td>\n",
       "    </tr>\n",
       "    <tr>\n",
       "      <th>3</th>\n",
       "      <td>Aberdeen South</td>\n",
       "      <td>-0.792791</td>\n",
       "    </tr>\n",
       "    <tr>\n",
       "      <th>4</th>\n",
       "      <td>Airdrie and Shotts</td>\n",
       "      <td>-0.816157</td>\n",
       "    </tr>\n",
       "  </tbody>\n",
       "</table>\n",
       "</div>"
      ],
      "text/plain": [
       "         Constituency  Amenities\n",
       "0            Aberavon  -0.215277\n",
       "1           Aberconwy   0.283899\n",
       "2      Aberdeen North  -0.779669\n",
       "3      Aberdeen South  -0.792791\n",
       "4  Airdrie and Shotts  -0.816157"
      ]
     },
     "execution_count": 572,
     "metadata": {},
     "output_type": "execute_result"
    }
   ],
   "source": [
    "# normalise\n",
    "amenities_1d_norm = amenities_mean[['Constituency', 'Amenities']].copy()\n",
    "amenities_series = amenities_1d_norm['Amenities']\n",
    "amenities_1d_norm['Amenities'] = (amenities_series - amenities_series.mean()) / amenities_series.std()\n",
    "\n",
    "amenities_1d_norm.head()"
   ]
  },
  {
   "cell_type": "code",
   "execution_count": 573,
   "metadata": {
    "scrolled": false
   },
   "outputs": [
    {
     "data": {
      "image/png": "[encoded data removed]",
      "text/plain": [
       "<Figure size 432x288 with 1 Axes>"
      ]
     },
     "metadata": {
      "needs_background": "light"
     },
     "output_type": "display_data"
    }
   ],
   "source": [
    "sorted_amenities = amenities_1d_norm.sort_values(by=['Amenities'], ascending=False)\n",
    "\n",
    "plt.figure(figsize=(6,4))\n",
    "plt.bar(x=sorted_amenities['Constituency'], height=sorted_amenities['Amenities'])\n",
    "plt.xlabel('Constituency', fontsize=12)\n",
    "plt.ylabel('Normalised amenity value', fontsize=12)\n",
    "plt.title('amenitiy', fontsize=15)\n",
    "plt.tick_params(bottom=False, labelbottom=False) # disable ticks and labels along the bottom edge\n",
    "plt.show()"
   ]
  },
  {
   "cell_type": "markdown",
   "metadata": {},
   "source": [
    "## Clustering constituencies"
   ]
  },
  {
   "cell_type": "markdown",
   "metadata": {},
   "source": [
    "Now that we have all our variables, we gather them up in one data frame, <tt>all_info</tt>."
   ]
  },
  {
   "cell_type": "code",
   "execution_count": 574,
   "metadata": {
    "scrolled": true
   },
   "outputs": [
    {
     "name": "stdout",
     "output_type": "stream",
     "text": [
      "(500, 9)\n"
     ]
    },
    {
     "data": {
      "text/html": [
       "<div>\n",
       "<style scoped>\n",
       "    .dataframe tbody tr th:only-of-type {\n",
       "        vertical-align: middle;\n",
       "    }\n",
       "\n",
       "    .dataframe tbody tr th {\n",
       "        vertical-align: top;\n",
       "    }\n",
       "\n",
       "    .dataframe thead th {\n",
       "        text-align: right;\n",
       "    }\n",
       "</style>\n",
       "<table border=\"1\" class=\"dataframe\">\n",
       "  <thead>\n",
       "    <tr style=\"text-align: right;\">\n",
       "      <th></th>\n",
       "      <th>Constituency</th>\n",
       "      <th>Population</th>\n",
       "      <th>Area</th>\n",
       "      <th>Avg age</th>\n",
       "      <th>Median house price</th>\n",
       "      <th>Businesses</th>\n",
       "      <th>Business profile</th>\n",
       "      <th>Amenities</th>\n",
       "      <th>Qualifications</th>\n",
       "    </tr>\n",
       "  </thead>\n",
       "  <tbody>\n",
       "    <tr>\n",
       "      <th>0</th>\n",
       "      <td>Aldershot</td>\n",
       "      <td>0.230191</td>\n",
       "      <td>-0.360126</td>\n",
       "      <td>-0.561755</td>\n",
       "      <td>0.233068</td>\n",
       "      <td>-0.120777</td>\n",
       "      <td>-0.804685</td>\n",
       "      <td>0.726880</td>\n",
       "      <td>0.070576</td>\n",
       "    </tr>\n",
       "    <tr>\n",
       "      <th>1</th>\n",
       "      <td>Aldridge-Brownhills</td>\n",
       "      <td>-1.566569</td>\n",
       "      <td>-0.370277</td>\n",
       "      <td>0.893047</td>\n",
       "      <td>-0.370958</td>\n",
       "      <td>-0.531669</td>\n",
       "      <td>-0.083996</td>\n",
       "      <td>0.296707</td>\n",
       "      <td>-0.813235</td>\n",
       "    </tr>\n",
       "    <tr>\n",
       "      <th>2</th>\n",
       "      <td>Altrincham and Sale West</td>\n",
       "      <td>-0.066709</td>\n",
       "      <td>-0.362446</td>\n",
       "      <td>0.057923</td>\n",
       "      <td>0.472595</td>\n",
       "      <td>0.689640</td>\n",
       "      <td>-1.214955</td>\n",
       "      <td>0.226183</td>\n",
       "      <td>1.584553</td>\n",
       "    </tr>\n",
       "    <tr>\n",
       "      <th>3</th>\n",
       "      <td>Amber Valley</td>\n",
       "      <td>-0.776674</td>\n",
       "      <td>-0.278939</td>\n",
       "      <td>0.661315</td>\n",
       "      <td>-0.735456</td>\n",
       "      <td>-0.390374</td>\n",
       "      <td>0.277779</td>\n",
       "      <td>-0.017484</td>\n",
       "      <td>-0.981112</td>\n",
       "    </tr>\n",
       "    <tr>\n",
       "      <th>4</th>\n",
       "      <td>Arundel and South Downs</td>\n",
       "      <td>-0.126641</td>\n",
       "      <td>0.312234</td>\n",
       "      <td>1.679105</td>\n",
       "      <td>1.139085</td>\n",
       "      <td>0.637669</td>\n",
       "      <td>0.067044</td>\n",
       "      <td>0.120536</td>\n",
       "      <td>0.815145</td>\n",
       "    </tr>\n",
       "  </tbody>\n",
       "</table>\n",
       "</div>"
      ],
      "text/plain": [
       "               Constituency  Population      Area   Avg age  \\\n",
       "0                 Aldershot    0.230191 -0.360126 -0.561755   \n",
       "1       Aldridge-Brownhills   -1.566569 -0.370277  0.893047   \n",
       "2  Altrincham and Sale West   -0.066709 -0.362446  0.057923   \n",
       "3              Amber Valley   -0.776674 -0.278939  0.661315   \n",
       "4   Arundel and South Downs   -0.126641  0.312234  1.679105   \n",
       "\n",
       "   Median house price  Businesses  Business profile  Amenities  Qualifications  \n",
       "0            0.233068   -0.120777         -0.804685   0.726880        0.070576  \n",
       "1           -0.370958   -0.531669         -0.083996   0.296707       -0.813235  \n",
       "2            0.472595    0.689640         -1.214955   0.226183        1.584553  \n",
       "3           -0.735456   -0.390374          0.277779  -0.017484       -0.981112  \n",
       "4            1.139085    0.637669          0.067044   0.120536        0.815145  "
      ]
     },
     "execution_count": 574,
     "metadata": {},
     "output_type": "execute_result"
    }
   ],
   "source": [
    "all_info = tot_pop_norm.copy()\n",
    "all_info = pd.merge(all_info, area_norm, on=['Constituency'])\n",
    "all_info = pd.merge(all_info, avg_age_norm, on=['Constituency'])\n",
    "all_info = pd.merge(all_info, house_prices_norm, on=['Constituency'])\n",
    "all_info = pd.merge(all_info, tot_business_norm, on=['Constituency'])\n",
    "all_info = pd.merge(all_info, business_profile_norm, on=['Constituency'])\n",
    "all_info = pd.merge(all_info, amenities_1d_norm, on=['Constituency'])\n",
    "all_info = pd.merge(all_info, quals_norm, on=['Constituency'])\n",
    "\n",
    "print(all_info.shape)\n",
    "all_info.head()"
   ]
  },
  {
   "cell_type": "markdown",
   "metadata": {},
   "source": [
    "We do a final visualisation of the distribution of the constituencies, given all our variables."
   ]
  },
  {
   "cell_type": "code",
   "execution_count": 575,
   "metadata": {},
   "outputs": [
    {
     "data": {
      "image/png": "[encoded data removed]",
      "text/plain": [
       "<Figure size 432x432 with 1 Axes>"
      ]
     },
     "metadata": {},
     "output_type": "display_data"
    }
   ],
   "source": [
    "pca = PCA(n_components=2)\n",
    "all_info_2d = pca.fit_transform(all_info.drop(['Constituency'], axis=1).set_index(all_info['Constituency']))\n",
    "\n",
    "# plot the constituencies\n",
    "fig = plt.figure(figsize=(6,6))\n",
    "\n",
    "x = np.dot(all_info_2d, [1,0])\n",
    "y = np.dot(all_info_2d, [0,1])\n",
    "\n",
    "plt.scatter(x, y)\n",
    "plt.title('all variables', fontsize=18)\n",
    "plt.xticks([])\n",
    "plt.yticks([])\n",
    "\n",
    "plt.show()"
   ]
  },
  {
   "cell_type": "markdown",
   "metadata": {},
   "source": [
    "We want to use the k-means clustering algorithm, so we have to find a suitable k. We will use the \"elbow method\", except that the first elbow was at k=8, which yielded too large clusters for our use case, so we find the next elbow after that point."
   ]
  },
  {
   "cell_type": "code",
   "execution_count": 576,
   "metadata": {},
   "outputs": [
    {
     "data": {
      "image/png": "[encoded data removed]",
      "text/plain": [
       "<Figure size 720x360 with 1 Axes>"
      ]
     },
     "metadata": {
      "needs_background": "light"
     },
     "output_type": "display_data"
    }
   ],
   "source": [
    "Sum_of_squared_distances = []\n",
    "K = range(8,50)\n",
    "for k in K:\n",
    "    km = KMeans(n_clusters = k)\n",
    "    km = km.fit(all_info.drop('Constituency', 1))\n",
    "    Sum_of_squared_distances.append(km.inertia_)\n",
    "\n",
    "plt.figure(figsize=(10,5))\n",
    "plt.plot(K, Sum_of_squared_distances, 'bx-')\n",
    "plt.xlabel('k')\n",
    "plt.ylabel('Sum of squared distances')\n",
    "plt.title('Elbow Method For Optimal k')\n",
    "plt.show()"
   ]
  },
  {
   "cell_type": "markdown",
   "metadata": {},
   "source": [
    "We find the second elbow to be at k=18, so we run the k-means clustering algorithm for this choice of k."
   ]
  },
  {
   "cell_type": "code",
   "execution_count": 577,
   "metadata": {},
   "outputs": [
    {
     "name": "stdout",
     "output_type": "stream",
     "text": [
      "K-means algorithm finished!\n"
     ]
    }
   ],
   "source": [
    "# set number of clusters\n",
    "kclusters = 18\n",
    "\n",
    "# run k-means clustering\n",
    "kmeans = KMeans(n_clusters=kclusters, random_state=0).fit(all_info.drop('Constituency', 1))\n",
    "labels = kmeans.labels_\n",
    "\n",
    "print(\"K-means algorithm finished!\")"
   ]
  },
  {
   "cell_type": "markdown",
   "metadata": {},
   "source": [
    "Here is a visualisation of the clusters."
   ]
  },
  {
   "cell_type": "code",
   "execution_count": 578,
   "metadata": {},
   "outputs": [
    {
     "data": {
      "image/png": "[encoded data removed]",
      "text/plain": [
       "<Figure size 720x720 with 1 Axes>"
      ]
     },
     "metadata": {},
     "output_type": "display_data"
    }
   ],
   "source": [
    "pca = PCA(n_components=2)\n",
    "all_info_2d = pca.fit_transform(all_info.drop(['Constituency'], axis=1).set_index(all_info['Constituency']))\n",
    "\n",
    "# plot the constituencies\n",
    "fig = plt.figure(figsize=(10,10))\n",
    "\n",
    "x = np.dot(all_info_2d, [1,0])\n",
    "y = np.dot(all_info_2d, [0,1])\n",
    "\n",
    "plt.scatter(x, y, c=labels)\n",
    "plt.title('clustered constituencies for k=18', fontsize=18)\n",
    "plt.xticks([])\n",
    "plt.yticks([])\n",
    "\n",
    "plt.show()"
   ]
  },
  {
   "cell_type": "markdown",
   "metadata": {},
   "source": [
    "Next, we add in the cluster labels to a new data frame <tt>nbhd_clusters</tt>, and find the distribution of the clusters."
   ]
  },
  {
   "cell_type": "code",
   "execution_count": 579,
   "metadata": {},
   "outputs": [
    {
     "name": "stdout",
     "output_type": "stream",
     "text": [
      "(500, 5)\n"
     ]
    },
    {
     "data": {
      "text/html": [
       "<div>\n",
       "<style scoped>\n",
       "    .dataframe tbody tr th:only-of-type {\n",
       "        vertical-align: middle;\n",
       "    }\n",
       "\n",
       "    .dataframe tbody tr th {\n",
       "        vertical-align: top;\n",
       "    }\n",
       "\n",
       "    .dataframe thead th {\n",
       "        text-align: right;\n",
       "    }\n",
       "</style>\n",
       "<table border=\"1\" class=\"dataframe\">\n",
       "  <thead>\n",
       "    <tr style=\"text-align: right;\">\n",
       "      <th></th>\n",
       "      <th>Constituency</th>\n",
       "      <th>Latitude</th>\n",
       "      <th>Longitude</th>\n",
       "      <th>Code</th>\n",
       "      <th>Cluster labels</th>\n",
       "    </tr>\n",
       "  </thead>\n",
       "  <tbody>\n",
       "    <tr>\n",
       "      <th>0</th>\n",
       "      <td>Aldershot</td>\n",
       "      <td>51.277500</td>\n",
       "      <td>-0.762801</td>\n",
       "      <td>E14000530</td>\n",
       "      <td>3</td>\n",
       "    </tr>\n",
       "    <tr>\n",
       "      <th>1</th>\n",
       "      <td>Aldridge-Brownhills</td>\n",
       "      <td>52.614201</td>\n",
       "      <td>-1.927900</td>\n",
       "      <td>E14000531</td>\n",
       "      <td>1</td>\n",
       "    </tr>\n",
       "    <tr>\n",
       "      <th>2</th>\n",
       "      <td>Altrincham and Sale West</td>\n",
       "      <td>53.394199</td>\n",
       "      <td>-2.342090</td>\n",
       "      <td>E14000532</td>\n",
       "      <td>10</td>\n",
       "    </tr>\n",
       "    <tr>\n",
       "      <th>3</th>\n",
       "      <td>Amber Valley</td>\n",
       "      <td>53.047901</td>\n",
       "      <td>-1.388680</td>\n",
       "      <td>E14000533</td>\n",
       "      <td>1</td>\n",
       "    </tr>\n",
       "    <tr>\n",
       "      <th>4</th>\n",
       "      <td>Arundel and South Downs</td>\n",
       "      <td>50.912498</td>\n",
       "      <td>-0.415972</td>\n",
       "      <td>E14000534</td>\n",
       "      <td>2</td>\n",
       "    </tr>\n",
       "  </tbody>\n",
       "</table>\n",
       "</div>"
      ],
      "text/plain": [
       "               Constituency   Latitude  Longitude       Code  Cluster labels\n",
       "0                 Aldershot  51.277500  -0.762801  E14000530               3\n",
       "1       Aldridge-Brownhills  52.614201  -1.927900  E14000531               1\n",
       "2  Altrincham and Sale West  53.394199  -2.342090  E14000532              10\n",
       "3              Amber Valley  53.047901  -1.388680  E14000533               1\n",
       "4   Arundel and South Downs  50.912498  -0.415972  E14000534               2"
      ]
     },
     "execution_count": 579,
     "metadata": {},
     "output_type": "execute_result"
    }
   ],
   "source": [
    "# create copy of nbhds_venues_sorted\n",
    "nbhd_clusters = all_info.copy()[['Constituency']]\n",
    "\n",
    "# add clustering labels\n",
    "nbhd_clusters.insert(0, 'Cluster labels', labels)\n",
    "\n",
    "# merge bristol_grouped with bristol data to add latitude/longitude for each neighborhood\n",
    "nbhd_clusters = constituencies.join(nbhd_clusters.set_index('Constituency'), on='Constituency')\n",
    "\n",
    "# drop neighbourhoods with no venues\n",
    "nbhd_clusters.dropna(subset=['Cluster labels'], inplace=True)\n",
    "\n",
    "# convert cluster labels to integers\n",
    "nbhd_clusters['Cluster labels'] = nbhd_clusters['Cluster labels'].astype('int32')\n",
    "\n",
    "print(nbhd_clusters.shape)\n",
    "nbhd_clusters.head()"
   ]
  },
  {
   "cell_type": "code",
   "execution_count": 580,
   "metadata": {
    "scrolled": true
   },
   "outputs": [
    {
     "data": {
      "image/png": "[encoded data removed]",
      "text/plain": [
       "<Figure size 720x360 with 1 Axes>"
      ]
     },
     "metadata": {
      "needs_background": "light"
     },
     "output_type": "display_data"
    }
   ],
   "source": [
    "# find total amount of clusters\n",
    "total_clusters = len(nbhd_clusters['Cluster labels'].unique())\n",
    "\n",
    "# count how many sectors are in each cluster\n",
    "cluster_count = nbhd_clusters.groupby(['Cluster labels']).count()['Constituency']\n",
    "\n",
    "# plot distribution of clusters\n",
    "plt.figure(figsize=(10,5))\n",
    "plt.bar(x=cluster_count.index, height=cluster_count.values)\n",
    "plt.xlabel('Clusters', fontsize=13)\n",
    "plt.ylabel('Constituency count', fontsize=13)\n",
    "plt.title('Distribution of constituencies by cluster when k=8', fontsize=18)\n",
    "plt.xticks([])\n",
    "plt.show()"
   ]
  },
  {
   "cell_type": "markdown",
   "metadata": {},
   "source": [
    "For the big finale, we find all the similar constituencies to a given area. Feel free to change the following area to be whatever you would like."
   ]
  },
  {
   "cell_type": "code",
   "execution_count": 581,
   "metadata": {},
   "outputs": [],
   "source": [
    "# Set your current area, or leave blank if you want to see all clusters\n",
    "current_area = 'Bristol'"
   ]
  },
  {
   "cell_type": "code",
   "execution_count": 582,
   "metadata": {},
   "outputs": [],
   "source": [
    "# set up geocoder\n",
    "geocoder = opencage.geocoder.OpenCageGeocode('3021fe0dd4174d68bdcb156dbe1974e4')\n",
    "\n",
    "def get_coords(query):\n",
    "    return list(geocoder.geocode(query)[0]['geometry'].values())\n",
    "\n",
    "england_coords = get_coords('England')"
   ]
  },
  {
   "cell_type": "code",
   "execution_count": 583,
   "metadata": {},
   "outputs": [
    {
     "name": "stdout",
     "output_type": "stream",
     "text": [
      "'Bristol' is in BS11XG which belongs to the constituency 'Bristol West' which is in cluster 9.\n"
     ]
    }
   ],
   "source": [
    "current_cluster = ''\n",
    "if current_area:\n",
    "    # get coordinates\n",
    "    current_coords = get_coords(current_area)\n",
    "\n",
    "    # get postcode\n",
    "    with request.urlopen(f\"https://www.doogal.co.uk/GetPostcodesNear.ashx?lat={current_coords[0]}&lng={current_coords[1]}\") as url_data:\n",
    "        soup = BeautifulSoup(url_data, 'xml')\n",
    "\n",
    "    postcode_list = []\n",
    "    for postcode in soup.postcodes.find_all('postcode'):\n",
    "        code = postcode['code']\n",
    "        distance = postcode['distance']\n",
    "        postcode_list.append([code, distance])\n",
    "\n",
    "    df = pd.DataFrame(postcode_list)\n",
    "    df.columns = ['Postcode', 'Distance']\n",
    "    postcodes = df.sort_values(by=['Distance']).head(10)['Postcode'].values\n",
    "    \n",
    "    current_constituency = ''\n",
    "    for postcode in postcodes:\n",
    "        if current_constituency == '':\n",
    "            current_postcode = postcode.replace(' ','')\n",
    "\n",
    "            # get constituency\n",
    "            try:\n",
    "                with request.urlopen(f\"https://www.doogal.co.uk/GetPostcode.ashx?postcode={current_postcode}\") as url_data:\n",
    "                    soup = BeautifulSoup(url_data)\n",
    "                current_constituency = soup.p.string.split('\\t')[4]\n",
    "            except:\n",
    "                pass\n",
    "    \n",
    "    if current_constituency == '':\n",
    "        print(\"Constituency not found!\")\n",
    "    else:\n",
    "        # get cluster\n",
    "        current_cluster = nbhd_clusters.loc[nbhd_clusters['Constituency'] == current_constituency]['Cluster labels'].values[0]\n",
    "        print(f\"'{current_area}' is in {current_postcode} which belongs to the constituency '{current_constituency}' which is in cluster {current_cluster}.\")"
   ]
  },
  {
   "cell_type": "code",
   "execution_count": 584,
   "metadata": {
    "scrolled": true
   },
   "outputs": [
    {
     "data": {
      "text/html": [
       "<div style=\"width:100%;\"><div style=\"position:relative;width:100%;height:0;padding-bottom:60%;\"><iframe src=\"data:text/html;charset=utf-8;base64,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\" style=\"position:absolute;width:100%;height:100%;left:0;top:0;border:none !important;\" allowfullscreen webkitallowfullscreen mozallowfullscreen></iframe></div></div>"
      ],
      "text/plain": [
       "<folium.folium.Map at 0x7fcd54ccd6d8>"
      ]
     },
     "execution_count": 584,
     "metadata": {},
     "output_type": "execute_result"
    }
   ],
   "source": [
    "# create map\n",
    "map_clusters = folium.Map(location=england_coords, zoom_start=6, tiles=\"Stamen Toner\")\n",
    "\n",
    "# set color scheme for the clusters\n",
    "x = np.arange(total_clusters)\n",
    "ys = [i + x + (i*x)**2 for i in range(total_clusters)]\n",
    "colors_array = cm.rainbow(np.linspace(0, 1, len(ys)))\n",
    "\n",
    "rainbow = [colors.rgb2hex(i) for i in colors_array]\n",
    "shuffle(rainbow)\n",
    "\n",
    "# add markers to the map\n",
    "markers_colors = []\n",
    "for lat, lng, constituency, cluster in zip(nbhd_clusters['Latitude'], nbhd_clusters['Longitude'], nbhd_clusters['Constituency'], nbhd_clusters['Cluster labels']):\n",
    "    if cluster == current_cluster or current_area == '':\n",
    "        label = folium.Popup(str(constituency) + f'\\nCluster {cluster}', parse_html=True)\n",
    "        folium.CircleMarker(\n",
    "            [lat, lng],\n",
    "            radius=5,\n",
    "            popup=label,\n",
    "            color=rainbow[cluster],\n",
    "            fill=True,\n",
    "            fill_color=rainbow[cluster],\n",
    "            fill_opacity=1).add_to(map_clusters)\n",
    "\n",
    "map_clusters"
   ]
  },
  {
   "cell_type": "markdown",
   "metadata": {},
   "source": [
    "To have an idea of what the clusters represent, we end with an overview of the average values of all the variables in each cluster."
   ]
  },
  {
   "cell_type": "code",
   "execution_count": 585,
   "metadata": {},
   "outputs": [
    {
     "data": {
      "text/html": [
       "<div>\n",
       "<style scoped>\n",
       "    .dataframe tbody tr th:only-of-type {\n",
       "        vertical-align: middle;\n",
       "    }\n",
       "\n",
       "    .dataframe tbody tr th {\n",
       "        vertical-align: top;\n",
       "    }\n",
       "\n",
       "    .dataframe thead th {\n",
       "        text-align: right;\n",
       "    }\n",
       "</style>\n",
       "<table border=\"1\" class=\"dataframe\">\n",
       "  <thead>\n",
       "    <tr style=\"text-align: right;\">\n",
       "      <th></th>\n",
       "      <th>Population</th>\n",
       "      <th>Area</th>\n",
       "      <th>Avg age</th>\n",
       "      <th>Median house price</th>\n",
       "      <th>Businesses</th>\n",
       "      <th>Business profile</th>\n",
       "      <th>Amenities</th>\n",
       "      <th>Qualifications</th>\n",
       "    </tr>\n",
       "    <tr>\n",
       "      <th>Cluster labels</th>\n",
       "      <th></th>\n",
       "      <th></th>\n",
       "      <th></th>\n",
       "      <th></th>\n",
       "      <th></th>\n",
       "      <th></th>\n",
       "      <th></th>\n",
       "      <th></th>\n",
       "    </tr>\n",
       "  </thead>\n",
       "  <tbody>\n",
       "    <tr>\n",
       "      <th>0</th>\n",
       "      <td>-0.070440</td>\n",
       "      <td>-0.257091</td>\n",
       "      <td>0.079528</td>\n",
       "      <td>-0.243332</td>\n",
       "      <td>-0.142691</td>\n",
       "      <td>-0.255150</td>\n",
       "      <td>0.112945</td>\n",
       "      <td>-0.114731</td>\n",
       "    </tr>\n",
       "    <tr>\n",
       "      <th>1</th>\n",
       "      <td>-1.401256</td>\n",
       "      <td>-0.194999</td>\n",
       "      <td>0.547526</td>\n",
       "      <td>-0.741989</td>\n",
       "      <td>-0.611762</td>\n",
       "      <td>0.272481</td>\n",
       "      <td>-0.281927</td>\n",
       "      <td>-0.759497</td>\n",
       "    </tr>\n",
       "    <tr>\n",
       "      <th>2</th>\n",
       "      <td>-0.487187</td>\n",
       "      <td>-0.085357</td>\n",
       "      <td>1.037039</td>\n",
       "      <td>0.167792</td>\n",
       "      <td>0.087394</td>\n",
       "      <td>-0.176738</td>\n",
       "      <td>0.201673</td>\n",
       "      <td>0.491026</td>\n",
       "    </tr>\n",
       "    <tr>\n",
       "      <th>3</th>\n",
       "      <td>0.540106</td>\n",
       "      <td>-0.354782</td>\n",
       "      <td>-0.990882</td>\n",
       "      <td>0.207899</td>\n",
       "      <td>-0.040912</td>\n",
       "      <td>-0.771263</td>\n",
       "      <td>0.248328</td>\n",
       "      <td>0.556857</td>\n",
       "    </tr>\n",
       "    <tr>\n",
       "      <th>4</th>\n",
       "      <td>1.264557</td>\n",
       "      <td>-0.403531</td>\n",
       "      <td>-0.884635</td>\n",
       "      <td>4.990204</td>\n",
       "      <td>1.290549</td>\n",
       "      <td>-1.322378</td>\n",
       "      <td>-0.707441</td>\n",
       "      <td>2.985647</td>\n",
       "    </tr>\n",
       "    <tr>\n",
       "      <th>5</th>\n",
       "      <td>-0.820722</td>\n",
       "      <td>0.933690</td>\n",
       "      <td>1.469562</td>\n",
       "      <td>-0.230700</td>\n",
       "      <td>0.111162</td>\n",
       "      <td>2.141565</td>\n",
       "      <td>-0.644411</td>\n",
       "      <td>-0.164179</td>\n",
       "    </tr>\n",
       "    <tr>\n",
       "      <th>6</th>\n",
       "      <td>-0.592609</td>\n",
       "      <td>0.169385</td>\n",
       "      <td>1.208661</td>\n",
       "      <td>-0.046992</td>\n",
       "      <td>0.018699</td>\n",
       "      <td>0.744969</td>\n",
       "      <td>1.599688</td>\n",
       "      <td>0.254448</td>\n",
       "    </tr>\n",
       "    <tr>\n",
       "      <th>7</th>\n",
       "      <td>0.115881</td>\n",
       "      <td>0.340703</td>\n",
       "      <td>0.848765</td>\n",
       "      <td>-0.151365</td>\n",
       "      <td>0.112279</td>\n",
       "      <td>0.742424</td>\n",
       "      <td>-1.031596</td>\n",
       "      <td>-0.091613</td>\n",
       "    </tr>\n",
       "    <tr>\n",
       "      <th>8</th>\n",
       "      <td>3.240381</td>\n",
       "      <td>-0.405194</td>\n",
       "      <td>-1.323532</td>\n",
       "      <td>3.430238</td>\n",
       "      <td>6.565563</td>\n",
       "      <td>-1.696229</td>\n",
       "      <td>-1.163936</td>\n",
       "      <td>2.154232</td>\n",
       "    </tr>\n",
       "    <tr>\n",
       "      <th>9</th>\n",
       "      <td>3.534126</td>\n",
       "      <td>-0.400114</td>\n",
       "      <td>-2.400750</td>\n",
       "      <td>0.523798</td>\n",
       "      <td>1.445108</td>\n",
       "      <td>-0.991527</td>\n",
       "      <td>-0.284113</td>\n",
       "      <td>1.184808</td>\n",
       "    </tr>\n",
       "    <tr>\n",
       "      <th>10</th>\n",
       "      <td>0.218244</td>\n",
       "      <td>-0.158115</td>\n",
       "      <td>0.070623</td>\n",
       "      <td>0.944730</td>\n",
       "      <td>0.539358</td>\n",
       "      <td>-0.828740</td>\n",
       "      <td>0.378038</td>\n",
       "      <td>1.164537</td>\n",
       "    </tr>\n",
       "    <tr>\n",
       "      <th>11</th>\n",
       "      <td>0.958225</td>\n",
       "      <td>-0.394603</td>\n",
       "      <td>-1.130906</td>\n",
       "      <td>2.016182</td>\n",
       "      <td>0.711474</td>\n",
       "      <td>-1.313372</td>\n",
       "      <td>-0.067488</td>\n",
       "      <td>2.258282</td>\n",
       "    </tr>\n",
       "    <tr>\n",
       "      <th>12</th>\n",
       "      <td>0.286832</td>\n",
       "      <td>0.065203</td>\n",
       "      <td>0.467422</td>\n",
       "      <td>0.833185</td>\n",
       "      <td>0.590977</td>\n",
       "      <td>-0.389227</td>\n",
       "      <td>4.051297</td>\n",
       "      <td>0.818643</td>\n",
       "    </tr>\n",
       "    <tr>\n",
       "      <th>13</th>\n",
       "      <td>-0.449467</td>\n",
       "      <td>-0.327242</td>\n",
       "      <td>-0.054973</td>\n",
       "      <td>-0.778115</td>\n",
       "      <td>-0.469976</td>\n",
       "      <td>-0.055355</td>\n",
       "      <td>0.069706</td>\n",
       "      <td>-1.028526</td>\n",
       "    </tr>\n",
       "    <tr>\n",
       "      <th>14</th>\n",
       "      <td>2.224543</td>\n",
       "      <td>-0.374641</td>\n",
       "      <td>-1.680630</td>\n",
       "      <td>0.312802</td>\n",
       "      <td>0.452930</td>\n",
       "      <td>-0.723358</td>\n",
       "      <td>-0.258461</td>\n",
       "      <td>0.386699</td>\n",
       "    </tr>\n",
       "    <tr>\n",
       "      <th>15</th>\n",
       "      <td>-0.631160</td>\n",
       "      <td>1.818236</td>\n",
       "      <td>1.548567</td>\n",
       "      <td>-0.085834</td>\n",
       "      <td>0.274146</td>\n",
       "      <td>2.155965</td>\n",
       "      <td>3.731770</td>\n",
       "      <td>0.274225</td>\n",
       "    </tr>\n",
       "    <tr>\n",
       "      <th>16</th>\n",
       "      <td>0.502375</td>\n",
       "      <td>-0.371473</td>\n",
       "      <td>-1.179432</td>\n",
       "      <td>-0.693957</td>\n",
       "      <td>-0.253732</td>\n",
       "      <td>-0.232640</td>\n",
       "      <td>-0.041285</td>\n",
       "      <td>-0.806720</td>\n",
       "    </tr>\n",
       "    <tr>\n",
       "      <th>17</th>\n",
       "      <td>-2.045797</td>\n",
       "      <td>2.371558</td>\n",
       "      <td>1.395798</td>\n",
       "      <td>-0.329301</td>\n",
       "      <td>0.086131</td>\n",
       "      <td>3.361436</td>\n",
       "      <td>-1.135330</td>\n",
       "      <td>0.010526</td>\n",
       "    </tr>\n",
       "  </tbody>\n",
       "</table>\n",
       "</div>"
      ],
      "text/plain": [
       "                Population      Area   Avg age  Median house price  \\\n",
       "Cluster labels                                                       \n",
       "0                -0.070440 -0.257091  0.079528           -0.243332   \n",
       "1                -1.401256 -0.194999  0.547526           -0.741989   \n",
       "2                -0.487187 -0.085357  1.037039            0.167792   \n",
       "3                 0.540106 -0.354782 -0.990882            0.207899   \n",
       "4                 1.264557 -0.403531 -0.884635            4.990204   \n",
       "5                -0.820722  0.933690  1.469562           -0.230700   \n",
       "6                -0.592609  0.169385  1.208661           -0.046992   \n",
       "7                 0.115881  0.340703  0.848765           -0.151365   \n",
       "8                 3.240381 -0.405194 -1.323532            3.430238   \n",
       "9                 3.534126 -0.400114 -2.400750            0.523798   \n",
       "10                0.218244 -0.158115  0.070623            0.944730   \n",
       "11                0.958225 -0.394603 -1.130906            2.016182   \n",
       "12                0.286832  0.065203  0.467422            0.833185   \n",
       "13               -0.449467 -0.327242 -0.054973           -0.778115   \n",
       "14                2.224543 -0.374641 -1.680630            0.312802   \n",
       "15               -0.631160  1.818236  1.548567           -0.085834   \n",
       "16                0.502375 -0.371473 -1.179432           -0.693957   \n",
       "17               -2.045797  2.371558  1.395798           -0.329301   \n",
       "\n",
       "                Businesses  Business profile  Amenities  Qualifications  \n",
       "Cluster labels                                                           \n",
       "0                -0.142691         -0.255150   0.112945       -0.114731  \n",
       "1                -0.611762          0.272481  -0.281927       -0.759497  \n",
       "2                 0.087394         -0.176738   0.201673        0.491026  \n",
       "3                -0.040912         -0.771263   0.248328        0.556857  \n",
       "4                 1.290549         -1.322378  -0.707441        2.985647  \n",
       "5                 0.111162          2.141565  -0.644411       -0.164179  \n",
       "6                 0.018699          0.744969   1.599688        0.254448  \n",
       "7                 0.112279          0.742424  -1.031596       -0.091613  \n",
       "8                 6.565563         -1.696229  -1.163936        2.154232  \n",
       "9                 1.445108         -0.991527  -0.284113        1.184808  \n",
       "10                0.539358         -0.828740   0.378038        1.164537  \n",
       "11                0.711474         -1.313372  -0.067488        2.258282  \n",
       "12                0.590977         -0.389227   4.051297        0.818643  \n",
       "13               -0.469976         -0.055355   0.069706       -1.028526  \n",
       "14                0.452930         -0.723358  -0.258461        0.386699  \n",
       "15                0.274146          2.155965   3.731770        0.274225  \n",
       "16               -0.253732         -0.232640  -0.041285       -0.806720  \n",
       "17                0.086131          3.361436  -1.135330        0.010526  "
      ]
     },
     "execution_count": 585,
     "metadata": {},
     "output_type": "execute_result"
    }
   ],
   "source": [
    "df = all_info.drop('Constituency', axis=1)\n",
    "df.insert(0, 'Cluster labels', labels)\n",
    "df = df.groupby(['Cluster labels']).mean()\n",
    "df"
   ]
  }
 ],
 "metadata": {
  "kernelspec": {
   "display_name": "Python 3",
   "language": "python",
   "name": "python3"
  },
  "language_info": {
   "codemirror_mode": {
    "name": "ipython",
    "version": 3
   },
   "file_extension": ".py",
   "mimetype": "text/x-python",
   "name": "python",
   "nbconvert_exporter": "python",
   "pygments_lexer": "ipython3",
   "version": "3.7.1"
  }
 },
 "nbformat": 4,
 "nbformat_minor": 2
}
